{
 "cells": [
  {
   "cell_type": "code",
   "execution_count": 1,
   "id": "b28a7fac",
   "metadata": {},
   "outputs": [],
   "source": [
    "#Using these imports that are the necessary libraries to start with the EDA\n",
    "import pandas as pd \n",
    "import pandas_datareader as web \n",
    "import datetime\n",
    "\n",
    "import matplotlib.pyplot as plt\n",
    "import seaborn as sns\n",
    "\n",
    "from statsmodels.tsa.statespace.sarimax import SARIMAX\n",
    "from statsmodels.tsa.arima_model import ARIMA\n",
    "\n",
    "#Relax the display limits on columns and rows\n",
    "pd.set_option('display.max_columns', None)\n",
    "pd.set_option('display.max_rows', None)\n",
    "\n",
    "import warnings\n",
    "warnings.filterwarnings('ignore')"
   ]
  },
  {
   "cell_type": "code",
   "execution_count": 2,
   "id": "97d38948",
   "metadata": {
    "scrolled": true
   },
   "outputs": [
    {
     "data": {
      "text/html": [
       "<div>\n",
       "<style scoped>\n",
       "    .dataframe tbody tr th:only-of-type {\n",
       "        vertical-align: middle;\n",
       "    }\n",
       "\n",
       "    .dataframe tbody tr th {\n",
       "        vertical-align: top;\n",
       "    }\n",
       "\n",
       "    .dataframe thead th {\n",
       "        text-align: right;\n",
       "    }\n",
       "</style>\n",
       "<table border=\"1\" class=\"dataframe\">\n",
       "  <thead>\n",
       "    <tr style=\"text-align: right;\">\n",
       "      <th></th>\n",
       "      <th>Date</th>\n",
       "      <th>Corrib production</th>\n",
       "      <th>Moffat</th>\n",
       "      <th>ROI imports via interconnector</th>\n",
       "      <th>Total</th>\n",
       "    </tr>\n",
       "  </thead>\n",
       "  <tbody>\n",
       "    <tr>\n",
       "      <th>0</th>\n",
       "      <td>01/01/2018</td>\n",
       "      <td>102.065496</td>\n",
       "      <td>71.311111</td>\n",
       "      <td>27.152195</td>\n",
       "      <td>200.528802</td>\n",
       "    </tr>\n",
       "    <tr>\n",
       "      <th>1</th>\n",
       "      <td>02/01/2018</td>\n",
       "      <td>101.201763</td>\n",
       "      <td>72.300000</td>\n",
       "      <td>31.378951</td>\n",
       "      <td>204.880714</td>\n",
       "    </tr>\n",
       "    <tr>\n",
       "      <th>2</th>\n",
       "      <td>03/01/2018</td>\n",
       "      <td>101.289081</td>\n",
       "      <td>94.022222</td>\n",
       "      <td>51.224061</td>\n",
       "      <td>246.535364</td>\n",
       "    </tr>\n",
       "    <tr>\n",
       "      <th>3</th>\n",
       "      <td>04/01/2018</td>\n",
       "      <td>102.011852</td>\n",
       "      <td>128.000000</td>\n",
       "      <td>77.649775</td>\n",
       "      <td>307.661627</td>\n",
       "    </tr>\n",
       "    <tr>\n",
       "      <th>4</th>\n",
       "      <td>05/01/2018</td>\n",
       "      <td>101.724944</td>\n",
       "      <td>127.900000</td>\n",
       "      <td>84.766547</td>\n",
       "      <td>314.391491</td>\n",
       "    </tr>\n",
       "  </tbody>\n",
       "</table>\n",
       "</div>"
      ],
      "text/plain": [
       "         Date  Corrib production      Moffat  ROI imports via interconnector  \\\n",
       "0  01/01/2018         102.065496   71.311111                       27.152195   \n",
       "1  02/01/2018         101.201763   72.300000                       31.378951   \n",
       "2  03/01/2018         101.289081   94.022222                       51.224061   \n",
       "3  04/01/2018         102.011852  128.000000                       77.649775   \n",
       "4  05/01/2018         101.724944  127.900000                       84.766547   \n",
       "\n",
       "        Total  \n",
       "0  200.528802  \n",
       "1  204.880714  \n",
       "2  246.535364  \n",
       "3  307.661627  \n",
       "4  314.391491  "
      ]
     },
     "execution_count": 2,
     "metadata": {},
     "output_type": "execute_result"
    }
   ],
   "source": [
    "gasConsumption = pd.read_csv('2023-Q3-Daily-supply.csv')# Using pandas to read our data and transforming it into a dataframe\n",
    "\n",
    "gasConsumption.head(5) #First thing to do is to visualise our df"
   ]
  },
  {
   "cell_type": "code",
   "execution_count": 3,
   "id": "a8005d15",
   "metadata": {},
   "outputs": [
    {
     "name": "stdout",
     "output_type": "stream",
     "text": [
      "There are no missing values in the time series.\n"
     ]
    }
   ],
   "source": [
    "missingValues = gasConsumption['Total'].isnull().sum()\n",
    "if missingValues > 0:\n",
    "    print(f'There are {missingValues} missing values in the time series.')\n",
    "else:\n",
    "    print('There are no missing values in the time series.')"
   ]
  },
  {
   "cell_type": "code",
   "execution_count": null,
   "id": "066d11b6",
   "metadata": {},
   "outputs": [],
   "source": []
  },
  {
   "cell_type": "code",
   "execution_count": 4,
   "id": "ef94638e",
   "metadata": {},
   "outputs": [],
   "source": [
    "gasConsumption = gasConsumption.drop(columns = ['Corrib production', 'Moffat', 'ROI imports via interconnector'])\n",
    "     #after seeing the dataset a lot of data are decided not to be kept simply because they are not needed"
   ]
  },
  {
   "cell_type": "code",
   "execution_count": 5,
   "id": "fa06012f",
   "metadata": {},
   "outputs": [],
   "source": [
    "gasConsumption.index = pd.to_datetime(gasConsumption['Date'], format='%d/%m/%Y')\n",
    "del gasConsumption['Date']"
   ]
  },
  {
   "cell_type": "code",
   "execution_count": 6,
   "id": "de1b7e32",
   "metadata": {},
   "outputs": [
    {
     "data": {
      "text/html": [
       "<div>\n",
       "<style scoped>\n",
       "    .dataframe tbody tr th:only-of-type {\n",
       "        vertical-align: middle;\n",
       "    }\n",
       "\n",
       "    .dataframe tbody tr th {\n",
       "        vertical-align: top;\n",
       "    }\n",
       "\n",
       "    .dataframe thead th {\n",
       "        text-align: right;\n",
       "    }\n",
       "</style>\n",
       "<table border=\"1\" class=\"dataframe\">\n",
       "  <thead>\n",
       "    <tr style=\"text-align: right;\">\n",
       "      <th></th>\n",
       "      <th>Total</th>\n",
       "    </tr>\n",
       "    <tr>\n",
       "      <th>Date</th>\n",
       "      <th></th>\n",
       "    </tr>\n",
       "  </thead>\n",
       "  <tbody>\n",
       "    <tr>\n",
       "      <th>2018-01-01</th>\n",
       "      <td>200.528802</td>\n",
       "    </tr>\n",
       "    <tr>\n",
       "      <th>2018-01-02</th>\n",
       "      <td>204.880714</td>\n",
       "    </tr>\n",
       "    <tr>\n",
       "      <th>2018-01-03</th>\n",
       "      <td>246.535364</td>\n",
       "    </tr>\n",
       "    <tr>\n",
       "      <th>2018-01-04</th>\n",
       "      <td>307.661627</td>\n",
       "    </tr>\n",
       "    <tr>\n",
       "      <th>2018-01-05</th>\n",
       "      <td>314.391491</td>\n",
       "    </tr>\n",
       "  </tbody>\n",
       "</table>\n",
       "</div>"
      ],
      "text/plain": [
       "                 Total\n",
       "Date                  \n",
       "2018-01-01  200.528802\n",
       "2018-01-02  204.880714\n",
       "2018-01-03  246.535364\n",
       "2018-01-04  307.661627\n",
       "2018-01-05  314.391491"
      ]
     },
     "execution_count": 6,
     "metadata": {},
     "output_type": "execute_result"
    }
   ],
   "source": [
    "gasConsumption.head()"
   ]
  },
  {
   "cell_type": "code",
   "execution_count": null,
   "id": "ad4e4826",
   "metadata": {
    "scrolled": true
   },
   "outputs": [],
   "source": [
    "# Draw Plot\n",
    "def plot_df(df, x, y, title=\"\", xlabel='Date', ylabel='Value', dpi=100):\n",
    "    plt.figure(figsize=(16,5), dpi=dpi)\n",
    "    plt.plot(x, y, color='tab:red')\n",
    "    plt.gca().set(title=title, xlabel=xlabel, ylabel=ylabel)\n",
    "    plt.show()\n",
    "\n",
    "plot_df(gasConsumption, x=gasConsumption.index, y=gasConsumption.Total, title='Yearly Gas Consumption in Ireland from 2018 to 2023.') "
   ]
  },
  {
   "cell_type": "code",
   "execution_count": null,
   "id": "2d0f7b05",
   "metadata": {},
   "outputs": [],
   "source": [
    "print(gasConsumption.columns)\n"
   ]
  },
  {
   "cell_type": "code",
   "execution_count": null,
   "id": "729d8669",
   "metadata": {
    "scrolled": true
   },
   "outputs": [],
   "source": [
    "import numpy as np\n",
    "x = gasConsumption.index\n",
    "y1 = gasConsumption['Total']\n",
    "\n",
    "# Plot\n",
    "fig, ax = plt.subplots(1, 1, figsize=(16,5), dpi= 120)\n",
    "plt.fill_between(x, y1=y1, y2=-y1, alpha=0.5, linewidth=2, color='seagreen')\n",
    "plt.ylim(-800, 800)\n",
    "plt.title('Gas Consumption (Two Side View)', fontsize=16)\n",
    "plt.hlines(y=0, xmin=np.min(gasConsumption.index), xmax=np.max(gasConsumption.index), linewidth=.5)\n",
    "plt.show()"
   ]
  },
  {
   "cell_type": "code",
   "execution_count": null,
   "id": "ae430808",
   "metadata": {},
   "outputs": [],
   "source": [
    "print(gasConsumption.columns)"
   ]
  },
  {
   "cell_type": "code",
   "execution_count": null,
   "id": "7d12cf02",
   "metadata": {},
   "outputs": [],
   "source": [
    "gasConsumption.shape #Using .shape to see the size of the dataframe, the rows and columns.\n"
   ]
  },
  {
   "cell_type": "code",
   "execution_count": null,
   "id": "1b35111f",
   "metadata": {},
   "outputs": [],
   "source": [
    "gasConsumption.info() #Using .info to see the content of the data frame, useful to identify my nulls, types, and names of columns"
   ]
  },
  {
   "cell_type": "code",
   "execution_count": null,
   "id": "799cd847",
   "metadata": {},
   "outputs": [],
   "source": [
    "gasConsumption.describe() #Summary of the statistical properties"
   ]
  },
  {
   "cell_type": "code",
   "execution_count": null,
   "id": "ae0a8986",
   "metadata": {},
   "outputs": [],
   "source": [
    "duplicate_rows_df = gasConsumption[gasConsumption.duplicated()]\n",
    "print(\"Duplicated rows: \", duplicate_rows_df)"
   ]
  },
  {
   "cell_type": "markdown",
   "id": "46986a75",
   "metadata": {},
   "source": [
    "# RNN"
   ]
  },
  {
   "cell_type": "code",
   "execution_count": null,
   "id": "26a910ee",
   "metadata": {},
   "outputs": [],
   "source": [
    "# Load your data\n",
    "gasConsumption = pd.read_csv('2023-Q3-Daily-supply.csv')"
   ]
  },
  {
   "cell_type": "code",
   "execution_count": null,
   "id": "53c69015",
   "metadata": {},
   "outputs": [],
   "source": [
    "sns.pairplot(gasConsumption)"
   ]
  },
  {
   "cell_type": "code",
   "execution_count": null,
   "id": "44ef1fce",
   "metadata": {},
   "outputs": [],
   "source": [
    "#Using the Total column as training data\n",
    "training_data = gasConsumption['Total'].values"
   ]
  },
  {
   "cell_type": "code",
   "execution_count": null,
   "id": "bd19ca75",
   "metadata": {
    "scrolled": true
   },
   "outputs": [],
   "source": [
    "type(training_data)"
   ]
  },
  {
   "cell_type": "code",
   "execution_count": null,
   "id": "0bdfb2df",
   "metadata": {},
   "outputs": [],
   "source": [
    "\n",
    "from sklearn.preprocessing import MinMaxScaler\n",
    "# Data Normalization\n",
    "scaler = MinMaxScaler()\n",
    "training_data = scaler.fit_transform(training_data.reshape(-1, 1))"
   ]
  },
  {
   "cell_type": "code",
   "execution_count": null,
   "id": "7939cb73",
   "metadata": {},
   "outputs": [],
   "source": [
    "# Prepare the sequences for LSTM\n",
    "x_training_data = []\n",
    "y_training_data = []\n",
    "\n"
   ]
  },
  {
   "cell_type": "code",
   "execution_count": null,
   "id": "46cd1c16",
   "metadata": {},
   "outputs": [],
   "source": [
    "for i in range(70, len(training_data)):\n",
    "    x_training_data.append(training_data[i-70:i, 0])\n",
    "    y_training_data.append(training_data[i, 0])"
   ]
  },
  {
   "cell_type": "code",
   "execution_count": null,
   "id": "58e1687e",
   "metadata": {},
   "outputs": [],
   "source": [
    "x_training_data = np.array(x_training_data)\n",
    "y_training_data = np.array(y_training_data)\n"
   ]
  },
  {
   "cell_type": "code",
   "execution_count": null,
   "id": "c1880765",
   "metadata": {},
   "outputs": [],
   "source": [
    "print(x_training_data.shape)\n",
    "\n",
    "print(y_training_data.shape)"
   ]
  },
  {
   "cell_type": "code",
   "execution_count": null,
   "id": "50eebca7",
   "metadata": {},
   "outputs": [],
   "source": [
    "x_training_data = np.reshape(x_training_data, (x_training_data.shape[0], x_training_data.shape[1], 1))"
   ]
  },
  {
   "cell_type": "code",
   "execution_count": null,
   "id": "f0314f31",
   "metadata": {},
   "outputs": [],
   "source": [
    "print(x_training_data.shape)"
   ]
  },
  {
   "cell_type": "code",
   "execution_count": null,
   "id": "ff9394fc",
   "metadata": {},
   "outputs": [],
   "source": [
    "from tensorflow.keras.models import Sequential\n",
    "from tensorflow.keras.layers import Dense\n",
    "from tensorflow.keras.layers import LSTM\n",
    "from tensorflow.keras.layers import Dropout"
   ]
  },
  {
   "cell_type": "code",
   "execution_count": null,
   "id": "9501a02b",
   "metadata": {},
   "outputs": [],
   "source": [
    "\n",
    "rnn = Sequential()\n",
    "rnn.add(LSTM(units = 70, return_sequences = True, input_shape = (x_training_data.shape[1], 1)))\n",
    "rnn.add(Dropout(0.2))\n",
    "rnn.add(LSTM(units = 70, return_sequences = True))\n",
    "rnn.add(Dropout(0.2))\n",
    "rnn.add(LSTM(units = 70, return_sequences = True))\n",
    "rnn.add(Dropout(0.2))\n",
    "rnn.add(LSTM(units = 70))\n",
    "rnn.add(Dropout(0.2))\n",
    "rnn.add(Dense(units = 1))"
   ]
  },
  {
   "cell_type": "code",
   "execution_count": null,
   "id": "0e7a5bf9",
   "metadata": {},
   "outputs": [],
   "source": [
    "# Compiling the model\n",
    "rnn.compile(optimizer = 'adam', loss = 'mean_squared_error')"
   ]
  },
  {
   "cell_type": "code",
   "execution_count": null,
   "id": "41e5199b",
   "metadata": {},
   "outputs": [],
   "source": [
    "#Fitting the model\n",
    "\n",
    "rnn.fit(x_training_data, y_training_data, epochs = 100, batch_size = 32)"
   ]
  },
  {
   "cell_type": "code",
   "execution_count": null,
   "id": "473f6a03",
   "metadata": {},
   "outputs": [],
   "source": [
    "# Load the test data\n",
    "test_data = pd.read_csv('2023-Q3-Daily-supply.csv')  \n",
    "test_data = test_data['Total'].values"
   ]
  },
  {
   "cell_type": "code",
   "execution_count": null,
   "id": "e35c889b",
   "metadata": {},
   "outputs": [],
   "source": [
    "print(test_data.shape)"
   ]
  },
  {
   "cell_type": "code",
   "execution_count": null,
   "id": "56cc8647",
   "metadata": {},
   "outputs": [],
   "source": [
    "plt.plot(test_data)"
   ]
  },
  {
   "cell_type": "code",
   "execution_count": null,
   "id": "6163f989",
   "metadata": {},
   "outputs": [],
   "source": [
    "unscaled_training_data = pd.read_csv('2023-Q3-Daily-supply.csv')\n",
    "\n",
    "unscaled_test_data = pd.read_csv('2023-Q3-Daily-supply.csv')"
   ]
  },
  {
   "cell_type": "code",
   "execution_count": null,
   "id": "2566ea5c",
   "metadata": {},
   "outputs": [],
   "source": [
    "all_data=pd.concat((unscaled_training_data['Total'],unscaled_test_data['Total']), axis = 0)"
   ]
  },
  {
   "cell_type": "code",
   "execution_count": null,
   "id": "e50d3b6f",
   "metadata": {},
   "outputs": [],
   "source": [
    "x_test_data = all_data[len(all_data) - len(test_data) - 70:].values"
   ]
  },
  {
   "cell_type": "code",
   "execution_count": null,
   "id": "d9d6ecc3",
   "metadata": {},
   "outputs": [],
   "source": [
    "len(x_test_data)"
   ]
  },
  {
   "cell_type": "code",
   "execution_count": null,
   "id": "f74a69d1",
   "metadata": {},
   "outputs": [],
   "source": [
    "x_test_data = np.reshape(x_test_data, (-1, 1))"
   ]
  },
  {
   "cell_type": "code",
   "execution_count": null,
   "id": "96b2ab9b",
   "metadata": {},
   "outputs": [],
   "source": [
    "x_test_data = scaler.transform(x_test_data)"
   ]
  },
  {
   "cell_type": "code",
   "execution_count": null,
   "id": "f2e29e9c",
   "metadata": {},
   "outputs": [],
   "source": [
    "final_x_test_data = []\n",
    "\n",
    "for i in range(70, len(x_test_data)):\n",
    "\n",
    "    final_x_test_data.append(x_test_data[i-70:i, 0])\n",
    "\n",
    "final_x_test_data = np.array(final_x_test_data)"
   ]
  },
  {
   "cell_type": "code",
   "execution_count": null,
   "id": "80319fa9",
   "metadata": {},
   "outputs": [],
   "source": [
    "final_x_test_data = np.reshape(final_x_test_data, (final_x_test_data.shape[0], final_x_test_data.shape[1],1))"
   ]
  },
  {
   "cell_type": "code",
   "execution_count": null,
   "id": "6b799dbf",
   "metadata": {},
   "outputs": [],
   "source": [
    "predictions = rnn.predict(final_x_test_data)"
   ]
  },
  {
   "cell_type": "code",
   "execution_count": null,
   "id": "63bc8720",
   "metadata": {},
   "outputs": [],
   "source": [
    "plt.plot(predictions) "
   ]
  },
  {
   "cell_type": "code",
   "execution_count": null,
   "id": "8786cc14",
   "metadata": {},
   "outputs": [],
   "source": [
    "unscaled_predictions = scaler.inverse_transform(predictions)\n",
    "\n",
    "plt.plot(unscaled_predictions)"
   ]
  },
  {
   "cell_type": "code",
   "execution_count": null,
   "id": "0b30eaa9",
   "metadata": {},
   "outputs": [],
   "source": [
    "# Plot the results\n",
    "\n",
    "plt.plot(test_data, color = 'blue', label = \"Real Data\")\n",
    "plt.plot(unscaled_predictions, color = 'red', label = \"Predictions\")\n",
    "plt.title('Gas Consumption Predictions')\n",
    "plt.legend()\n",
    "plt.show()"
   ]
  },
  {
   "cell_type": "code",
   "execution_count": null,
   "id": "e49b864a",
   "metadata": {},
   "outputs": [],
   "source": [
    "print(\"The first trading day price prediction is for Jan 2020 is: \",unscaled_predictions[0])\n",
    "print(\"The real first trading day price for Jan 2020 is: \",test_data[0])"
   ]
  },
  {
   "cell_type": "code",
   "execution_count": null,
   "id": "adf745ba",
   "metadata": {},
   "outputs": [],
   "source": [
    "print(\"The last trading day price prediction is for Jan 2020 is: \",unscaled_predictions[30])\n",
    "print(\"The real last trading day price for Jan 2020 is: \",test_data[30])"
   ]
  },
  {
   "cell_type": "code",
   "execution_count": null,
   "id": "7301fc7e",
   "metadata": {
    "scrolled": true
   },
   "outputs": [],
   "source": [
    "import matplotlib as mpl\n",
    "gasConsumption['year'] = [d.year for d in gasConsumption.index]\n",
    "gasConsumption['month'] = [d.strftime('%b') for d in gasConsumption.index]\n",
    "years = gasConsumption['year'].unique()\n",
    "\n",
    "\n",
    "np.random.seed(100)\n",
    "mycolors = np.random.choice(list(mpl.colors.XKCD_COLORS.keys()), len(years), replace=False)\n",
    "# Draw Plot\n",
    "fig, axes = plt.subplots(1, 2, figsize=(20,7), dpi= 80)\n",
    "sns.boxplot(x='year', y='Total', data=gasConsumption, ax=axes[0], palette=mycolors)\n",
    "sns.boxplot(x='month', y='Total', data=gasConsumption.loc[~gasConsumption.year.isin([2018, 2023]), :], palette=mycolors)\n",
    "\n",
    "# Set Title\n",
    "axes[0].set_title('Year-wise Box Plot\\n(The Trend)', fontsize=18); \n",
    "axes[1].set_title('Month-wise Box Plot\\n(The Seasonality)', fontsize=18)\n",
    "plt.show()"
   ]
  },
  {
   "cell_type": "code",
   "execution_count": null,
   "id": "238b1494",
   "metadata": {
    "scrolled": false
   },
   "outputs": [],
   "source": [
    "import matplotlib.pyplot as plt\n",
    "import pandas as pd\n",
    "\n",
    "\n",
    "fig, axes = plt.subplots(1, 3, figsize=(20, 4), dpi=100)\n",
    "\n",
    "\n",
    "gasConsumption.groupby(gasConsumption.index.year)['Total'].mean().plot(title='Trend Only', legend=False, ax=axes[0])\n",
    "\n",
    "\n",
    "gasConsumption.groupby(gasConsumption.index.month)['Total'].mean().plot(title='Seasonality Only', legend=False, ax=axes[1])\n",
    "gasConsumption['Total'].plot(title='Trend and Seasonality', legend=False, ax=axes[2])\n",
    "\n",
    "plt.show()\n",
    "\n"
   ]
  },
  {
   "cell_type": "code",
   "execution_count": null,
   "id": "6d9b67f4",
   "metadata": {
    "scrolled": true
   },
   "outputs": [],
   "source": [
    "sns.set()\n",
    "plt.ylabel('Total')\n",
    "plt.xlabel ('Date')\n",
    "plt.xticks(rotation =45)\n",
    "plt.plot(gasConsumption.index, gasConsumption [ 'Total'],)\n",
    "plt.show()"
   ]
  },
  {
   "cell_type": "code",
   "execution_count": null,
   "id": "d378adb1",
   "metadata": {},
   "outputs": [],
   "source": [
    "from statsmodels.tsa.seasonal import seasonal_decompose\n",
    "from dateutil.parser import parse\n",
    "%matplotlib inline\n",
    "\n",
    "\n",
    "# Multiplicative Decomposition \n",
    "result_mul = seasonal_decompose(gasConsumption['Total'], model='multiplicative', extrapolate_trend='freq')\n",
    "\n",
    "\n",
    "\n",
    "# Plot\n",
    "plt.rcParams.update({'figure.figsize': (25,25)})\n",
    "result_mul.plot().suptitle('Multiplicative Decompose', fontsize=22)\n",
    "\n",
    "\n"
   ]
  },
  {
   "cell_type": "code",
   "execution_count": null,
   "id": "7342bb08",
   "metadata": {
    "scrolled": false
   },
   "outputs": [],
   "source": [
    "# Additive Decomposition\n",
    "result_add = seasonal_decompose(gasConsumption['Total'], model='additive', extrapolate_trend='freq')\n",
    "result_add.plot().suptitle('Additive Decompose', fontsize=22)"
   ]
  },
  {
   "cell_type": "code",
   "execution_count": null,
   "id": "f4f194cd",
   "metadata": {},
   "outputs": [],
   "source": [
    "# Extract the Components ----\n",
    "# Actual Values = Product of (Seasonal * Trend * Resid)\n",
    "df_reconstructed = pd.concat([result_mul.seasonal, result_mul.trend, result_mul.resid, result_mul.observed], axis=1)\n",
    "df_reconstructed.columns = ['seas', 'trend', 'resid', 'actual_values']\n",
    "df_reconstructed.head()"
   ]
  },
  {
   "cell_type": "code",
   "execution_count": null,
   "id": "d1c4d27a",
   "metadata": {},
   "outputs": [],
   "source": [
    "print(gasConsumption.dtypes)\n",
    "\n"
   ]
  },
  {
   "cell_type": "code",
   "execution_count": null,
   "id": "dad2001b",
   "metadata": {},
   "outputs": [],
   "source": [
    "from statsmodels.tsa.stattools import adfuller, kpss\n",
    "gasConsumption = pd.read_csv('2023-Q3-Daily-supply.csv')\n",
    "\n",
    "gasConsumption['Date'] = pd.to_datetime(gasConsumption['Date'], format='%d/%m/%Y')\n",
    "#del gasConsumption['Date']\n",
    "# ADF Test\n",
    "result = adfuller(gasConsumption.Total.values, autolag='AIC')\n",
    "print(f'ADF Statistic: {result[0]}')\n",
    "print(f'p-value: {result[1]}')\n",
    "for key, value in result[4].items():\n",
    "    print('Critial Values:')\n",
    "    print(f'   {key}, {value}')\n",
    "\n",
    "# KPSS Test\n",
    "result = kpss(gasConsumption.Total.values, regression='c')\n",
    "print('\\nKPSS Statistic: %f' % result[0])\n",
    "print('p-value: %f' % result[1])\n",
    "for key, value in result[3].items():\n",
    "    print('Critial Values:')\n",
    "    print(f'   {key}, {value}')\n",
    "    \n",
    "    "
   ]
  },
  {
   "cell_type": "code",
   "execution_count": null,
   "id": "4918d093",
   "metadata": {},
   "outputs": [],
   "source": [
    "gasConsumption.head()"
   ]
  },
  {
   "cell_type": "code",
   "execution_count": null,
   "id": "6157a8a8",
   "metadata": {},
   "outputs": [],
   "source": [
    "from scipy import signal\n",
    "gasConsumption = pd.read_csv('2023-Q3-Daily-supply.csv',parse_dates=['Date'])\n",
    "\n",
    "\n",
    "detrended = signal.detrend(gasConsumption.Total.values)\n",
    "plt.plot(detrended)\n",
    "plt.title('Gas Consumption detrended by subtracting the least squares fit', fontsize=16)"
   ]
  },
  {
   "cell_type": "code",
   "execution_count": null,
   "id": "1c2d4a56",
   "metadata": {},
   "outputs": [],
   "source": [
    "# Using statmodels: Subtracting the Trend Component.\n",
    "from statsmodels.tsa.seasonal import seasonal_decompose\n",
    "gasConsumption = pd.read_csv('2023-Q3-Daily-supply.csv')\n",
    "gasConsumption.index = pd.to_datetime(gasConsumption['Date'], format='%d/%m/%Y')\n",
    "\n",
    "result_mul = seasonal_decompose(gasConsumption['Total'], model='multiplicative', extrapolate_trend='freq')\n",
    "detrended = gasConsumption.Total.values - result_mul.trend\n",
    "plt.plot(detrended)\n",
    "plt.title('Gas Consumption detrended by subtracting the trend component', fontsize=16)"
   ]
  },
  {
   "cell_type": "code",
   "execution_count": null,
   "id": "f98c2063",
   "metadata": {},
   "outputs": [],
   "source": [
    "from statsmodels.tsa.seasonal import seasonal_decompose\n",
    "# Subtracting the Trend Component.\n",
    "gasConsumption = pd.read_csv('2023-Q3-Daily-supply.csv')\n",
    "gasConsumption.index = pd.to_datetime(gasConsumption['Date'], format='%d/%m/%Y')\n",
    "# Time Series Decomposition\n",
    "result_mul = seasonal_decompose(gasConsumption['Total'], model='multiplicative', extrapolate_trend='freq')\n",
    "\n",
    "# Deseasonalize\n",
    "deseasonalized = gasConsumption['Total'].values / result_mul.seasonal\n",
    "\n",
    "# Plot\n",
    "plt.plot(deseasonalized)\n",
    "plt.title('Gas Consumption Deseasonalized', fontsize=16)\n",
    "plt.plot()\n"
   ]
  },
  {
   "cell_type": "markdown",
   "id": "8cb43e54",
   "metadata": {},
   "source": [
    "# test for seasonality of a time series"
   ]
  },
  {
   "cell_type": "code",
   "execution_count": null,
   "id": "f869f707",
   "metadata": {},
   "outputs": [],
   "source": [
    "from pandas.plotting import autocorrelation_plot\n",
    "gasConsumption = pd.read_csv('2023-Q3-Daily-supply.csv')\n",
    "\n",
    "# Draw Plot\n",
    "plt.rcParams.update({'figure.figsize':(9,5), 'figure.dpi':120})\n",
    "autocorrelation_plot(gasConsumption['Total'].tolist())\n"
   ]
  },
  {
   "cell_type": "markdown",
   "id": "5a2d5fed",
   "metadata": {},
   "source": [
    "# Autocorrelation and partial autocorrelation functions"
   ]
  },
  {
   "cell_type": "code",
   "execution_count": null,
   "id": "23c431ba",
   "metadata": {},
   "outputs": [],
   "source": [
    "\n",
    "from statsmodels.tsa.stattools import acf, pacf\n",
    "from statsmodels.graphics.tsaplots import plot_acf, plot_pacf\n",
    "gasConsumption = pd.read_csv('2023-Q3-Daily-supply.csv')\n",
    "\n",
    "\n",
    "\n",
    "\n",
    "# Draw Plot\n",
    "fig, axes = plt.subplots(1,2,figsize=(16,3), dpi= 100)\n",
    "plot_acf(gasConsumption.Total.tolist(), lags=50, ax=axes[0])\n",
    "plot_pacf(gasConsumption.Total.tolist(), lags=50, ax=axes[1])"
   ]
  },
  {
   "cell_type": "code",
   "execution_count": null,
   "id": "b2e8a3f1",
   "metadata": {},
   "outputs": [],
   "source": [
    "from pandas.plotting import lag_plot\n",
    "plt.rcParams.update({'ytick.left' : False, 'axes.titlepad':10})\n",
    "\n",
    "# Import\n",
    "\n",
    "# Plot\n",
    "\n",
    "fig.suptitle('Lag Plots of Sun Spots Area \\n(Points get wide and scattered with increasing lag -> lesser correlation)\\n', y=1.15)    \n",
    "\n",
    "fig, axes = plt.subplots(1, 4, figsize=(10,3), sharex=True, sharey=True, dpi=100)\n",
    "for i, ax in enumerate(axes.flatten()[:4]):\n",
    "    lag_plot(gasConsumption.Total, lag=i+1, ax=ax, c='firebrick')\n",
    "    ax.set_title('Lag ' + str(i+1))\n",
    "\n",
    "fig.suptitle('Lag Plots of Gas Consumption', y=1.05)    \n",
    "plt.show()"
   ]
  },
  {
   "cell_type": "markdown",
   "id": "7168f0dd",
   "metadata": {},
   "source": [
    "# Forecastability"
   ]
  },
  {
   "cell_type": "code",
   "execution_count": null,
   "id": "4e646fde",
   "metadata": {},
   "outputs": [],
   "source": [
    "rand_small = np.random.randint(0, 100, size=36)\n",
    "rand_big = np.random.randint(0, 100, size=136)\n",
    "\n",
    "def ApEn(U, m, r):\n",
    "    \"\"\"Compute Aproximate entropy\"\"\"\n",
    "    def _maxdist(x_i, x_j):\n",
    "        return max([abs(ua - va) for ua, va in zip(x_i, x_j)])\n",
    "\n",
    "    def _phi(m):\n",
    "        x = [[U[j] for j in range(i, i + m - 1 + 1)] for i in range(N - m + 1)]\n",
    "        C = [len([1 for x_j in x if _maxdist(x_i, x_j) <= r]) / (N - m + 1.0) for x_i in x]\n",
    "        return (N - m + 1.0)**(-1) * sum(np.log(C))\n",
    "\n",
    "    N = len(U)\n",
    "    return abs(_phi(m+1) - _phi(m))\n",
    "\n",
    "\n",
    "print(ApEn(gasConsumption.Total, m=2, r=0.2*np.std(gasConsumption.Total)))   \n",
    "print(ApEn(rand_small, m=2, r=0.2*np.std(rand_small))) \n",
    "print(ApEn(rand_big, m=2, r=0.2*np.std(rand_big)))     "
   ]
  },
  {
   "cell_type": "code",
   "execution_count": null,
   "id": "d7dcf15e",
   "metadata": {},
   "outputs": [],
   "source": [
    "\n",
    "def SampEn(U, m, r):\n",
    "    \"\"\"Compute Sample entropy\"\"\"\n",
    "    def _maxdist(x_i, x_j):\n",
    "        return max([abs(ua - va) for ua, va in zip(x_i, x_j)])\n",
    "\n",
    "    def _phi(m):\n",
    "        x = [[U[j] for j in range(i, i + m - 1 + 1)] for i in range(N - m + 1)]\n",
    "        C = [len([1 for j in range(len(x)) if i != j and _maxdist(x[i], x[j]) <= r]) for i in range(len(x))]\n",
    "        return sum(C)\n",
    "\n",
    "    N = len(U)\n",
    "    return -np.log(_phi(m+1) / _phi(m))\n",
    "\n",
    "\n",
    "print(SampEn(gasConsumption.Total, m=2, r=0.2*np.std(gasConsumption.Total)))   \n",
    "print(SampEn(rand_small, m=2, r=0.2*np.std(rand_small)))  \n",
    "print(SampEn(rand_big, m=2, r=0.2*np.std(rand_big)))      "
   ]
  },
  {
   "cell_type": "markdown",
   "id": "3b7200bf",
   "metadata": {},
   "source": [
    "# Granger Causality"
   ]
  },
  {
   "cell_type": "code",
   "execution_count": null,
   "id": "74c00c06",
   "metadata": {},
   "outputs": [],
   "source": [
    "from statsmodels.tsa.stattools import grangercausalitytests\n",
    "gasConsumption = pd.read_csv('2023-Q3-Daily-supply.csv', parse_dates=['Date'], index_col='Date')\n",
    "gasConsumption.index = pd.to_datetime(gasConsumption.index, format='%d/%m/%Y')\n",
    "gasConsumption['year'] = [d.year for d in gasConsumption.index]\n",
    "grangercausalitytests(gasConsumption[['Total', 'year']], maxlag=2)"
   ]
  },
  {
   "cell_type": "code",
   "execution_count": null,
   "id": "6ef3b360",
   "metadata": {
    "scrolled": true
   },
   "outputs": [],
   "source": [
    "from statsmodels.tsa.stattools import grangercausalitytests\n",
    "gasConsumption = pd.read_csv('2023-Q3-Daily-supply.csv', parse_dates=['Date'], index_col='Date')\n",
    "gasConsumption.index = pd.to_datetime(gasConsumption.index, format='%d/%m/%Y')\n",
    "gasConsumption['month'] = [d.month for d in gasConsumption.index]\n",
    "grangercausalitytests(gasConsumption[['Total', 'month']], maxlag=2)"
   ]
  },
  {
   "cell_type": "code",
   "execution_count": null,
   "id": "95bbbfd8",
   "metadata": {},
   "outputs": [],
   "source": [
    "gasConsumption.head()"
   ]
  },
  {
   "cell_type": "code",
   "execution_count": null,
   "id": "0738251a",
   "metadata": {},
   "outputs": [],
   "source": [
    "gasConsumption = pd.read_csv('2023-Q3-Daily-supply.csv')\n",
    "gasConsumption.index = pd.to_datetime(gasConsumption['Date'], format='%d/%m/%Y')\n",
    "del gasConsumption['Date']\n",
    "gasConsumption = gasConsumption.drop(columns = ['Corrib production', 'Moffat', 'ROI imports via interconnector'])\n",
    "train =gasConsumption[gasConsumption.index < pd.to_datetime('29-09-2022',format = '%d-%m-%Y')]\n",
    "test =gasConsumption[gasConsumption.index >= pd.to_datetime('29-09-2022',format = '%d-%m-%Y')]"
   ]
  },
  {
   "cell_type": "code",
   "execution_count": null,
   "id": "d569c675",
   "metadata": {},
   "outputs": [],
   "source": []
  },
  {
   "cell_type": "code",
   "execution_count": null,
   "id": "1c6a0872",
   "metadata": {},
   "outputs": [],
   "source": []
  },
  {
   "cell_type": "code",
   "execution_count": null,
   "id": "7ec11b24",
   "metadata": {
    "scrolled": true
   },
   "outputs": [],
   "source": [
    "plt.plot(train,color ='black')\n",
    "plt.plot(test,color = 'red')\n",
    "plt.ylabel('Gas Consumption, Total')\n",
    "plt.xlabel('Date')\n",
    "plt.xticks(rotation=45)\n",
    "plt.title ('Train/Test split for Gas Consumption Data')\n",
    "plt.show()"
   ]
  },
  {
   "cell_type": "code",
   "execution_count": null,
   "id": "6500e6d1",
   "metadata": {},
   "outputs": [],
   "source": [
    "from statsmodels.tsa.statespace.sarimax import SARIMAX\n",
    "\n",
    "y = train['Total']\n",
    "\n",
    "# Fit SARIMA model\n",
    "SARIMA_model = SARIMAX(y, order=(1, 0, 1))\n",
    "SARIMA_model = SARIMA_model.fit()\n",
    "\n",
    "# Forecast\n",
    "y_pred = SARIMA_model.get_forecast(steps=len(test.index))\n",
    "y_pred_df = y_pred.conf_int(alpha=0.05) \n",
    "y_pred_df[\"Predictions\"] = SARIMA_model.predict(start=y_pred_df.index[0], \n",
    "                                                end=y_pred_df.index[-1])\n",
    "y_pred_df.index = test.index\n",
    "y_pred_out_SARIMA = y_pred_df[\"Predictions\"]\n",
    "\n",
    "# Plot\n",
    "plt.figure(figsize=(12, 6))\n",
    "plt.plot(train, color=\"black\", label='Training')\n",
    "plt.plot(test, color=\"red\", label='Testing')\n",
    "plt.plot(y_pred_out_SARIMA, color='green', label='SARIMA Predictions')\n",
    "plt.fill_between(y_pred_df.index, y_pred_df.iloc[:, 0], y_pred_df.iloc[:, 1], color='gray', alpha=0.2)\n",
    "plt.ylabel('Gas Consumption Total')\n",
    "plt.xlabel('Date')\n",
    "plt.xticks(rotation=45)\n",
    "plt.title(\"Train/Test split for Gas Consumption Data\")\n",
    "plt.legend()\n",
    "plt.show()\n"
   ]
  },
  {
   "cell_type": "code",
   "execution_count": null,
   "id": "23184997",
   "metadata": {},
   "outputs": [],
   "source": [
    "from statsmodels.tsa.arima.model import ARIMA\n",
    "\n",
    "\n",
    "y = train['Total']\n",
    "\n",
    "ARMAmodel = SARIMAX(y, order = (1, 0, 1))\n",
    "ARMAmodel = ARMAmodel.fit()\n",
    "\n",
    "y_pred = ARMAmodel.get_forecast(len(test.index))\n",
    "y_pred_df = y_pred.conf_int(alpha = 0.05) \n",
    "y_pred_df[\"Predictions\"] = ARMAmodel.predict(start = y_pred_df.index[0], \n",
    "                                             end = y_pred_df.index[-1])\n",
    "y_pred_df.index = test.index\n",
    "y_pred_outARMA = y_pred_df[\"Predictions\"] \n",
    "\n",
    "plt.plot(train, color = \"black\", label = 'Training')\n",
    "plt.plot(test, color = \"red\", label = 'Testing')\n",
    "plt.ylabel('Gas Consumption Total')\n",
    "plt.xlabel('Date')\n",
    "plt.xticks(rotation=45)\n",
    "plt.title(\"Train/Test split for Gas Consumption Data\")\n",
    "plt.plot(y_pred_outARMA, color='green', label = 'ARMA Predictions')\n",
    "plt.legend()\n",
    "plt.show()"
   ]
  },
  {
   "cell_type": "code",
   "execution_count": null,
   "id": "b5037f23",
   "metadata": {
    "scrolled": true
   },
   "outputs": [],
   "source": [
    "#Determine rolling statistics\n",
    "gasConsumption[\"rolling_avg\"] = gasConsumption[\"Total\"].rolling(window=12).mean() \n",
    "gasConsumption[\"rolling_std\"] = gasConsumption[\"Total\"].rolling(window=12).std()\n",
    "\n",
    "#Plot rolling statistics\n",
    "plt.figure(figsize=(15,7))\n",
    "plt.plot(gasConsumption[\"Total\"], color='#379BDB', label='Original')\n",
    "plt.plot(gasConsumption[\"rolling_avg\"], color='#D22A0D', label='Rolling Mean')\n",
    "plt.plot(gasConsumption[\"rolling_std\"], color='#142039', label='Rolling Std')\n",
    "plt.legend(loc='best')\n",
    "plt.title('Rolling Mean & Standard Deviation')\n",
    "plt.show(block=False)"
   ]
  },
  {
   "cell_type": "code",
   "execution_count": null,
   "id": "5b7baa37",
   "metadata": {},
   "outputs": [],
   "source": [
    "#pip install pmdarima\n"
   ]
  },
  {
   "cell_type": "code",
   "execution_count": null,
   "id": "ca22cfa8",
   "metadata": {
    "scrolled": true
   },
   "outputs": [],
   "source": [
    "import pmdarima as pm\n",
    "ARIMA_model = pm.auto_arima(gasConsumption['Total'], \n",
    "                      start_p=1, \n",
    "                      start_q=1,\n",
    "                      test='adf', \n",
    "                      max_p=3, max_q=3, \n",
    "                      m=1, \n",
    "                      d=None,\n",
    "                      seasonal=False, \n",
    "                      trace=False, \n",
    "                      error_action='warn', \n",
    "                      suppress_warnings=True,\n",
    "                      stepwise=True)"
   ]
  },
  {
   "cell_type": "code",
   "execution_count": null,
   "id": "36d2dc50",
   "metadata": {
    "scrolled": true
   },
   "outputs": [],
   "source": [
    "ARIMA_model.plot_diagnostics(figsize=(15,12))\n",
    "plt.show()"
   ]
  },
  {
   "cell_type": "code",
   "execution_count": null,
   "id": "e786ad0b",
   "metadata": {},
   "outputs": [],
   "source": [
    "def forecast(ARIMA_model, periods=12):\n",
    "  \n",
    "        # Forecast\n",
    "        n_periods = periods\n",
    "        fitted, confint = ARIMA_model.predict(n_periods=n_periods, return_conf_int=True)\n",
    "        index_of_fc = pd.date_range(gasConsumption.index[-1] + pd.DateOffset(months=1), periods=n_periods, freq='MS')\n",
    "\n",
    "        # Plot\n",
    "        plt.figure(figsize=(15,7))\n",
    "        plt.plot(gasConsumption.index, gasConsumption[\"Total\"], color='#1f76b4', label='Actual')\n",
    "        plt.plot(index_of_fc, fitted, color='darkgreen', label='Forecast')\n",
    "        plt.fill_between(index_of_fc, \n",
    "                         confint[:, 0], \n",
    "                         confint[:, 1], \n",
    "                         color='k', alpha=.15)\n",
    "\n",
    "        plt.title(\"ARIMA/SARIMA - Forecast of Gas Consumption\")\n",
    "        plt.legend()\n",
    "        plt.show()\n",
    "\n",
    "    \n",
    "\n",
    "# Call the forecast function\n",
    "forecast(ARIMA_model)\n"
   ]
  },
  {
   "cell_type": "code",
   "execution_count": null,
   "id": "d6c72fa9",
   "metadata": {},
   "outputs": [],
   "source": [
    "try:\n",
    "    SARIMA_model = pm.auto_arima(gasConsumption['Total'], start_p=1, start_q=1,\n",
    "                                 test='adf',\n",
    "                                 max_p=3, max_q=3, \n",
    "                                 m=12, \n",
    "                                 start_P=0, \n",
    "                                 seasonal=True,\n",
    "                                 d=None, \n",
    "                                 D=1, \n",
    "                                 trace=False,\n",
    "                                 error_action='ignore',  \n",
    "                                 suppress_warnings=True, \n",
    "                                 stepwise=True)\n",
    "except Exception as e:\n",
    "    print(\"An error occurred:\", e)\n"
   ]
  },
  {
   "cell_type": "code",
   "execution_count": null,
   "id": "52602f83",
   "metadata": {},
   "outputs": [],
   "source": [
    "SARIMA_model.plot_diagnostics(figsize=(15,12))\n",
    "plt.show()"
   ]
  },
  {
   "cell_type": "code",
   "execution_count": null,
   "id": "8c6fa7e9",
   "metadata": {},
   "outputs": [],
   "source": [
    "forecast(SARIMA_model)"
   ]
  },
  {
   "cell_type": "code",
   "execution_count": null,
   "id": "e6d4ba37",
   "metadata": {
    "scrolled": true
   },
   "outputs": [],
   "source": []
  },
  {
   "cell_type": "code",
   "execution_count": null,
   "id": "f7b64046",
   "metadata": {
    "scrolled": true
   },
   "outputs": [],
   "source": []
  }
 ],
 "metadata": {
  "kernelspec": {
   "display_name": "Python 3 (ipykernel)",
   "language": "python",
   "name": "python3"
  },
  "language_info": {
   "codemirror_mode": {
    "name": "ipython",
    "version": 3
   },
   "file_extension": ".py",
   "mimetype": "text/x-python",
   "name": "python",
   "nbconvert_exporter": "python",
   "pygments_lexer": "ipython3",
   "version": "3.11.5"
  }
 },
 "nbformat": 4,
 "nbformat_minor": 5
}
