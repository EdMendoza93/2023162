{
 "cells": [
  {
   "cell_type": "code",
   "execution_count": null,
   "id": "a1a1dcb0",
   "metadata": {},
   "outputs": [],
   "source": [
    "import seaborn as sns\n",
    "import pandas as pd"
   ]
  },
  {
   "cell_type": "code",
   "execution_count": null,
   "id": "43a1e275",
   "metadata": {},
   "outputs": [],
   "source": [
    "marriages_df = pd.read_csv('marriages.csv')"
   ]
  },
  {
   "cell_type": "code",
   "execution_count": null,
   "id": "7ff63a65",
   "metadata": {},
   "outputs": [],
   "source": [
    "marriages_df.head()"
   ]
  },
  {
   "cell_type": "code",
   "execution_count": null,
   "id": "3222a600",
   "metadata": {},
   "outputs": [],
   "source": [
    "marriages_df.shape"
   ]
  },
  {
   "cell_type": "code",
   "execution_count": null,
   "id": "c6be723b",
   "metadata": {},
   "outputs": [],
   "source": [
    "marriages_df.info()"
   ]
  },
  {
   "cell_type": "code",
   "execution_count": null,
   "id": "3691d600",
   "metadata": {},
   "outputs": [],
   "source": [
    "marriages_df.drop(marriages_df[marriages_df['Age Group'] != 'All ages'].index, axis=0, inplace=True)"
   ]
  },
  {
   "cell_type": "code",
   "execution_count": null,
   "id": "eb7ba52c",
   "metadata": {},
   "outputs": [],
   "source": [
    "marriages_df.head()\n"
   ]
  },
  {
   "cell_type": "code",
   "execution_count": null,
   "id": "35177c84",
   "metadata": {},
   "outputs": [],
   "source": [
    "marriages_df.drop(marriages_df[marriages_df['Form of Ceremony'] == 'All ceremonies'].index, axis=0, inplace=True)"
   ]
  },
  {
   "cell_type": "code",
   "execution_count": null,
   "id": "44c5aa10",
   "metadata": {
    "scrolled": false
   },
   "outputs": [],
   "source": [
    "marriages_df"
   ]
  },
  {
   "cell_type": "code",
   "execution_count": null,
   "id": "396815f3",
   "metadata": {},
   "outputs": [],
   "source": [
    "marriages_df.drop(columns=['Age Group'], inplace=True)"
   ]
  },
  {
   "cell_type": "code",
   "execution_count": null,
   "id": "133dee77",
   "metadata": {},
   "outputs": [],
   "source": [
    "print(marriages_df.columns)\n"
   ]
  },
  {
   "cell_type": "code",
   "execution_count": null,
   "id": "42790b22",
   "metadata": {},
   "outputs": [],
   "source": [
    "marriages_df.drop('C02076V02508', axis=1, inplace=True)"
   ]
  },
  {
   "cell_type": "code",
   "execution_count": null,
   "id": "1121a9ed",
   "metadata": {},
   "outputs": [],
   "source": [
    "marriages_df.drop('TLIST(A1)', axis=1, inplace=True)"
   ]
  },
  {
   "cell_type": "code",
   "execution_count": null,
   "id": "9c93559a",
   "metadata": {},
   "outputs": [],
   "source": [
    "marriages_df.drop('C02199V02655', axis=1, inplace=True)"
   ]
  },
  {
   "cell_type": "code",
   "execution_count": null,
   "id": "7559d4dd",
   "metadata": {},
   "outputs": [],
   "source": [
    "marriages_df.drop('C01940V02373', axis=1, inplace=True)"
   ]
  },
  {
   "cell_type": "code",
   "execution_count": null,
   "id": "0adf4f72",
   "metadata": {},
   "outputs": [],
   "source": [
    "marriages_df.drop('UNIT', axis=1, inplace=True)"
   ]
  },
  {
   "cell_type": "code",
   "execution_count": null,
   "id": "6cc1be65",
   "metadata": {},
   "outputs": [],
   "source": [
    "marriages_df.drop('STATISTIC', axis=1, inplace=True)"
   ]
  },
  {
   "cell_type": "code",
   "execution_count": null,
   "id": "8560d4bd",
   "metadata": {},
   "outputs": [],
   "source": [
    "marriages_df.drop('Statistic Label', axis=1, inplace=True)"
   ]
  },
  {
   "cell_type": "code",
   "execution_count": null,
   "id": "f1b2978d",
   "metadata": {},
   "outputs": [],
   "source": [
    "marriages_df"
   ]
  },
  {
   "cell_type": "code",
   "execution_count": null,
   "id": "53742ff2",
   "metadata": {},
   "outputs": [],
   "source": [
    "marriages_df.describe(include=object)"
   ]
  },
  {
   "cell_type": "code",
   "execution_count": null,
   "id": "02b5fe62",
   "metadata": {},
   "outputs": [],
   "source": [
    "import numpy as np"
   ]
  },
  {
   "cell_type": "code",
   "execution_count": null,
   "id": "45321f70",
   "metadata": {},
   "outputs": [],
   "source": [
    "marriages_df.isnull().sum()"
   ]
  },
  {
   "cell_type": "code",
   "execution_count": null,
   "id": "93698e0f",
   "metadata": {},
   "outputs": [],
   "source": [
    "marriages_df.shape"
   ]
  },
  {
   "cell_type": "code",
   "execution_count": null,
   "id": "079ec787",
   "metadata": {},
   "outputs": [],
   "source": [
    "marriages_df = marriages_df.rename(columns={\"VALUE\": 'Total' })"
   ]
  },
  {
   "cell_type": "code",
   "execution_count": null,
   "id": "d79e1253",
   "metadata": {},
   "outputs": [],
   "source": [
    "marriages_df.info()"
   ]
  },
  {
   "cell_type": "code",
   "execution_count": null,
   "id": "5274acb9",
   "metadata": {},
   "outputs": [],
   "source": [
    "marriages_df.count() "
   ]
  },
  {
   "cell_type": "code",
   "execution_count": null,
   "id": "3ee221eb",
   "metadata": {},
   "outputs": [],
   "source": [
    "duplicate_rows_df = marriages_df[marriages_df.duplicated()]\n",
    "print(\"Duplicated rows: \", duplicate_rows_df.shape)"
   ]
  },
  {
   "cell_type": "code",
   "execution_count": null,
   "id": "59e4599a",
   "metadata": {
    "scrolled": true
   },
   "outputs": [],
   "source": [
    "marriages_df = marriages_df.drop_duplicates()\n",
    "marriages_df"
   ]
  },
  {
   "cell_type": "code",
   "execution_count": null,
   "id": "9045ecec",
   "metadata": {},
   "outputs": [],
   "source": [
    "marriages_df['totalMarriages'] = 0\n",
    "\n",
    "for year in range(2016, 2023):\n",
    "    maleSum = (marriages_df['Year'] == year) & (marriages_df['Sex'] == 'Male')\n",
    "    femaleSum = (marriages_df['Year'] == year) & (marriages_df['Sex'] == 'Female')\n",
    "    \n",
    "\n",
    "    if maleSum.any():\n",
    "        maleSumOperation = marriages_df[maleSum]['Total'].sum()\n",
    "        marriages_df.loc[maleSum, 'totalMarriages'] = maleSumOperation\n",
    "\n",
    "    if femaleSum.any():\n",
    "        femaleSumOperation = marriages_df[femaleSum]['Total'].sum()\n",
    "        marriages_df.loc[femaleSum, 'totalMarriages'] = femaleSumOperation\n"
   ]
  },
  {
   "cell_type": "code",
   "execution_count": null,
   "id": "23adf8b3",
   "metadata": {},
   "outputs": [],
   "source": [
    "marriages_df['Form of Ceremony'].unique()"
   ]
  },
  {
   "cell_type": "code",
   "execution_count": null,
   "id": "d9002d73",
   "metadata": {},
   "outputs": [],
   "source": [
    "marriages_df['totalTypeOfCeremony'] = 0\n",
    "\n",
    "for year in range(2016, 2023):\n",
    "    maleOtherCeremonySum =  (marriages_df['Sex'] == 'Male')& (marriages_df['Form of Ceremony'] == 'Other religious denominations')\n",
    "    femaleOtherCeremonySum = (marriages_df['Sex'] == 'Female')& (marriages_df['Form of Ceremony'] == 'Other religious denominations')\n",
    "    \n",
    "    maleCivilCeremonySum =  (marriages_df['Sex'] == 'Male')& (marriages_df['Form of Ceremony'] == 'Civil marriages')\n",
    "    femaleCivilCeremonySum = (marriages_df['Sex'] == 'Female')& (marriages_df['Form of Ceremony'] == 'Civil marriages')\n",
    "    \n",
    "    maleHumanistCeremonySum = (marriages_df['Sex'] == 'Male')& (marriages_df['Form of Ceremony'] == 'The Humanist Association')\n",
    "    femaleHumanistCeremonySum =  (marriages_df['Sex'] == 'Female')& (marriages_df['Form of Ceremony'] == 'The Humanist Association')\n",
    "    \n",
    "    maleSpiritualCeremonySum = (marriages_df['Sex'] == 'Male')& (marriages_df['Form of Ceremony'] == 'The Spiritualist Union of Ireland')\n",
    "    femaleSpiritualCeremonySum =  (marriages_df['Sex'] == 'Female')& (marriages_df['Form of Ceremony'] == 'The Spiritualist Union of Ireland')\n",
    "\n",
    "    if maleOtherCeremonySum.any():\n",
    "        maleCeremonySumOperation = marriages_df[maleOtherCeremonySum]['Total'].sum()\n",
    "        marriages_df.loc[maleOtherCeremonySum, 'totalTypeOfCeremony'] = maleCeremonySumOperation\n",
    "\n",
    "    if femaleOtherCeremonySum.any():\n",
    "        femaleCeremonySumOperation = marriages_df[femaleOtherCeremonySum]['Total'].sum()\n",
    "        marriages_df.loc[femaleOtherCeremonySum, 'totalTypeOfCeremony'] = femaleCeremonySumOperation\n",
    "        \n",
    "    if maleCivilCeremonySum.any():\n",
    "        maleCeremonySumOperation = marriages_df[maleCivilCeremonySum]['Total'].sum()\n",
    "        marriages_df.loc[maleCivilCeremonySum, 'totalTypeOfCeremony'] = maleCeremonySumOperation\n",
    "    \n",
    "    if femaleCivilCeremonySum.any():\n",
    "        femaleCeremonySumOperation = marriages_df[femaleCivilCeremonySum]['Total'].sum()\n",
    "        marriages_df.loc[femaleCivilCeremonySum, 'totalTypeOfCeremony'] = femaleCeremonySumOperation\n",
    "    \n",
    "    if maleHumanistCeremonySum.any():\n",
    "        maleCeremonySumOperation = marriages_df[maleHumanistCeremonySum]['Total'].sum()\n",
    "        marriages_df.loc[maleHumanistCeremonySum, 'totalTypeOfCeremony'] = maleCeremonySumOperation\n",
    "    \n",
    "    if femaleHumanistCeremonySum.any():\n",
    "        femaleCeremonySumOperation = marriages_df[femaleHumanistCeremonySum]['Total'].sum()\n",
    "        marriages_df.loc[femaleHumanistCeremonySum, 'totalTypeOfCeremony'] = femaleCeremonySumOperation\n",
    "    \n",
    "    if maleSpiritualCeremonySum.any():\n",
    "        maleCeremonySumOperation = marriages_df[maleSpiritualCeremonySum]['Total'].sum()\n",
    "        marriages_df.loc[maleSpiritualCeremonySum, 'totalTypeOfCeremony'] = maleCeremonySumOperation\n",
    "     \n",
    "    if femaleSpiritualCeremonySum.any():\n",
    "        femaleCeremonySumOperation = marriages_df[femaleSpiritualCeremonySum]['Total'].sum()\n",
    "        marriages_df.loc[femaleSpiritualCeremonySum, 'totalTypeOfCeremony'] = femaleCeremonySumOperation"
   ]
  },
  {
   "cell_type": "code",
   "execution_count": null,
   "id": "2ee8c61d",
   "metadata": {},
   "outputs": [],
   "source": [
    "marriages_df.head()"
   ]
  },
  {
   "cell_type": "code",
   "execution_count": null,
   "id": "6d6d2327",
   "metadata": {
    "scrolled": true
   },
   "outputs": [],
   "source": [
    "sns.boxplot(data=marriages_df, x='totalMarriages', y='Year')"
   ]
  },
  {
   "cell_type": "code",
   "execution_count": null,
   "id": "5b62b2e3",
   "metadata": {},
   "outputs": [],
   "source": [
    "sns.histplot(data=marriages_df, x='totalTypeOfCeremony', y='Total')"
   ]
  },
  {
   "cell_type": "code",
   "execution_count": null,
   "id": "e987c3bd",
   "metadata": {},
   "outputs": [],
   "source": [
    "from numpy import mean"
   ]
  },
  {
   "cell_type": "code",
   "execution_count": null,
   "id": "d8faf906",
   "metadata": {
    "scrolled": true
   },
   "outputs": [],
   "source": [
    "ax= sns.barplot (x='Year', y='totalMarriages', data=marriages_df, estimator = mean)"
   ]
  },
  {
   "cell_type": "code",
   "execution_count": null,
   "id": "a22e120f",
   "metadata": {},
   "outputs": [],
   "source": [
    "sns.displot(marriages_df, x='Year', y='Total', hue='Form of Ceremony', bins=12)"
   ]
  },
  {
   "cell_type": "code",
   "execution_count": null,
   "id": "2e339195",
   "metadata": {},
   "outputs": [],
   "source": [
    "import matplotlib.pyplot as plt"
   ]
  },
  {
   "cell_type": "code",
   "execution_count": null,
   "id": "de8cb882",
   "metadata": {},
   "outputs": [],
   "source": []
  },
  {
   "cell_type": "code",
   "execution_count": null,
   "id": "826ee0b4",
   "metadata": {},
   "outputs": [],
   "source": [
    "top_40_ceremonies = marriages_df.groupby('Form of Ceremony')['Total'].sum().nlargest(40)\n",
    "top_40_ceremonies.plot(kind=\"bar\", figsize=(10, 5))\n",
    "plt.title(\"Total Marriages by Type\")\n",
    "plt.ylabel(\"Marriages\")\n",
    "plt.xlabel(\"Form of Ceremony\")"
   ]
  },
  {
   "cell_type": "code",
   "execution_count": null,
   "id": "097f5e1a",
   "metadata": {},
   "outputs": [],
   "source": [
    "\n",
    "sns.scatterplot(data=marriages_df, x='Year', y='Total', hue='Form of Ceremony', size = 'Sex', alpha = 0.7)\n",
    "plt.legend(loc='upper right',bbox_to_anchor=(1.56,1.02))"
   ]
  },
  {
   "cell_type": "code",
   "execution_count": null,
   "id": "2eccec16",
   "metadata": {
    "scrolled": true
   },
   "outputs": [],
   "source": [
    "sns.pairplot(marriages_df);"
   ]
  },
  {
   "cell_type": "code",
   "execution_count": null,
   "id": "7e3d6fa2",
   "metadata": {},
   "outputs": [],
   "source": [
    "marriages_df.to_csv('marriages_modified.csv', index=False)"
   ]
  },
  {
   "cell_type": "code",
   "execution_count": null,
   "id": "f8e9a511",
   "metadata": {},
   "outputs": [],
   "source": [
    "isDone = False\n",
    "\n",
    "while not isDone:\n",
    "    option = input('Input the number of the category you want to get information from\\n 1.-Total of Marriages 2.- Type of Marriages 3.- Marriages per sex 4.- Marriages per year: ')\n",
    "\n",
    "    if option == 'done':\n",
    "        isDone = True\n",
    "        print('Thank you')\n",
    "    else:\n",
    "        try:\n",
    "            option_to_int = int(option)\n",
    "            if option_to_int == 1:\n",
    "                total_marriages = marriages_df['Total'].sum()\n",
    "                print('The total marriages for same sex couples are:', total_marriages)\n",
    "            elif option_to_int == 2:\n",
    "                option = input('Input the type of marriage you want info from\\n 1.-Civil Marriage 2.-The Spiritualist Union of Ireland  3.- The Humanist Association\\n 4.- Other religious denominations  5.-All types summary\\n ')\n",
    "                try:\n",
    "                    option_to_int = int(option)  \n",
    "                    if option_to_int == 1:\n",
    "                        total_marriages_civil = marriages_df[marriages_df['Form of Ceremony'] == 'Civil marriages']['Total'].sum()\n",
    "                        print('The total marriages for Civil Marriages are: ', total_marriages_civil)\n",
    "                    elif option_to_int == 2:\n",
    "                        total_marriages_spirit = marriages_df[marriages_df['Form of Ceremony'] == 'The Spiritualist Union of Ireland']['Total'].sum()\n",
    "                        print('The total marriages for The Spiritualist Union of Ireland are: ', total_marriages_spirit)\n",
    "                       \n",
    "                    elif option_to_int == 3:\n",
    "                        total_marriages_human = marriages_df[marriages_df['Form of Ceremony'] == 'The Humanist Association']['Total'].sum()\n",
    "                        print('The total marriages for The Humanist Association are: ', total_marriages_human)\n",
    "                        \n",
    "                    elif option_to_int == 4:\n",
    "                        total_marriages_other = marriages_df[marriages_df['Form of Ceremony'] == 'Other religious denominations']['Total'].sum()\n",
    "                        print('The total marriages for Other religious denominations are: ', total_marriages_other)\n",
    "                    \n",
    "                    elif option_to_int == 5:\n",
    "                        total_marriages_civil = marriages_df[marriages_df['Form of Ceremony'] == 'Civil marriages']['Total'].sum()\n",
    "                        total_marriages_spirit = marriages_df[marriages_df['Form of Ceremony'] == 'The Spiritualist Union of Ireland']['Total'].sum()\n",
    "                        total_marriages_human = marriages_df[marriages_df['Form of Ceremony'] == 'The Humanist Association']['Total'].sum()\n",
    "                        total_marriages_other= marriages_df[marriages_df['Form of Ceremony'] == 'Other religious denominations']['Total'].sum()\n",
    "                        \n",
    "                        df_totals = pd.DataFrame({'Type': ['Civil Marriages', 'The Spiritualist Union of Ireland', 'The Humanist Association', 'Other religious denominations'],\n",
    "                        'Total': [total_marriages_civil, total_marriages_spirit, total_marriages_human, total_marriages_other] })\n",
    "            \n",
    "                        print('Total of Ceremonies')\n",
    "                        print(df_totals)\n",
    "                       \n",
    "                    else:\n",
    "                        print('Input a number from the options.')\n",
    "                except :\n",
    "                    print('Input a valid number from the options')\n",
    "            elif option_to_int == 3:\n",
    "                \n",
    "                option = input('Input the type of sex you want info from\\n 1.-Male 2.-Female  3.- Both\\n')\n",
    "                try:\n",
    "                    option_to_int = int(option)  \n",
    "                    if option_to_int == 1:\n",
    "                        total_marriages_male = marriages_df[marriages_df['Sex'] == 'Male']['Total'].sum()\n",
    "                        print('The total marriages for Male is:', total_marriages_male)\n",
    "                    elif option_to_int == 2:\n",
    "                        total_marriages_female = marriages_df[marriages_df['Sex'] == 'Female']['Total'].sum()\n",
    "                        print('The total marriages for Female is:', total_marriages_female)\n",
    "                    elif option_to_int == 3:\n",
    "            \n",
    "                        total_marriages_male = marriages_df[marriages_df['Sex'] == 'Male']['Total'].sum()\n",
    "                        total_marriages_female = marriages_df[marriages_df['Sex'] == 'Female']['Total'].sum()\n",
    "                        df_totals = pd.DataFrame({'Sex': ['Male', 'Female'],\n",
    "                        'Total': [total_marriages_male, total_marriages_female] })\n",
    "            \n",
    "                        print('Total of Ceremonies per Sex')\n",
    "                        print(df_totals)\n",
    "                       \n",
    "                    else:\n",
    "                        print('Input a number from the options.')\n",
    "                except :\n",
    "                    print('Input a valid number from the options')\n",
    "            elif option_to_int == 4:\n",
    "                \n",
    "                option = input('Input the year you want info from\\n 1.-2016 2.-2017 3.-2018 4.-2019 5.-2020 6-2021 7.-2022 8.-All years \\n')\n",
    "                try:\n",
    "                    option_to_int = int(option)  \n",
    "                    if option_to_int == 1:\n",
    "                        total_marriages_2016 = marriages_df[marriages_df['Year'] == 2016]['Total'].sum()\n",
    "                        print('The total marriages in 2016 is:', total_marriages_2016)\n",
    "                    elif option_to_int == 2:\n",
    "                        total_marriages_2017 = marriages_df[marriages_df['Year'] == 2017]['Total'].sum()\n",
    "                        print('The total marriages in 2017 is:', total_marriages_2017)\n",
    "                    elif option_to_int == 3:\n",
    "                        total_marriages_2018 = marriages_df[marriages_df['Year'] == 2018]['Total'].sum()\n",
    "                        print('The total marriages in 2018 is:', total_marriages_2018)\n",
    "                    elif option_to_int == 4:\n",
    "                        total_marriages_2019 = marriages_df[marriages_df['Year'] == 2019]['Total'].sum()\n",
    "                        print('The total marriages in 2019 is:', total_marriages_2019)\n",
    "                    elif option_to_int == 5:\n",
    "                        total_marriages_2020 = marriages_df[marriages_df['Year'] == 2020]['Total'].sum()\n",
    "                        print('The total marriages in 2020 is:', total_marriages_2020)\n",
    "                    elif option_to_int == 6:\n",
    "                        total_marriages_2021 = marriages_df[marriages_df['Year'] == 2021]['Total'].sum()\n",
    "                        print('The total marriages in 2021 is:', total_marriages_2021)\n",
    "                    elif option_to_int == 7:\n",
    "                        total_marriages_2022 = marriages_df[marriages_df['Year'] == 2022]['Total'].sum()\n",
    "                        print('The total marriages in 2022 is:', total_marriages_2022)                     \n",
    "                    elif option_to_int == 8:\n",
    "            \n",
    "                        total_marriages_2016 = marriages_df[marriages_df['Year'] == 2016]['Total'].sum()\n",
    "                        total_marriages_2017 = marriages_df[marriages_df['Year'] == 2017]['Total'].sum()\n",
    "                        total_marriages_2018 = marriages_df[marriages_df['Year'] == 2018]['Total'].sum()\n",
    "                        total_marriages_2019 = marriages_df[marriages_df['Year'] == 2019]['Total'].sum()\n",
    "                        total_marriages_2020 = marriages_df[marriages_df['Year'] == 2020]['Total'].sum()\n",
    "                        total_marriages_2021 = marriages_df[marriages_df['Year'] == 2021]['Total'].sum()\n",
    "                        total_marriages_2022 = marriages_df[marriages_df['Year'] == 2022]['Total'].sum()\n",
    "                        df_totals = pd.DataFrame({'Year': ['2016', '2017', '2018','2019','2020','2021','2022'],\n",
    "                        'Total': [total_marriages_2016, total_marriages_2017, total_marriages_2018, total_marriages_2019,total_marriages_2020,total_marriages_2021,total_marriages_2022 ] })\n",
    "            \n",
    "                        print('All Years')\n",
    "                        print(df_totals)\n",
    "                       \n",
    "                    else:\n",
    "                        print('Input a number from the options.')\n",
    "                except :\n",
    "                    print('Input a valid number from the options')\n",
    "                \n",
    "            else:\n",
    "                print('Input a valid number from the options')\n",
    "        except :\n",
    "            print(\"Input a valid number from the options or type 'done' to finalise.\")\n",
    "\n",
    "            "
   ]
  },
  {
   "cell_type": "code",
   "execution_count": null,
   "id": "8a859429",
   "metadata": {},
   "outputs": [],
   "source": [
    "\n",
    "\n",
    "plt.figure(4, figsize=(10, 8)) \n",
    "plt.scatter(marriages_df[marriages_df['Sex'] == 'Male']['Year'], marriages_df[marriages_df['Sex'] == 'Male']['totalMarriages'], c='r', label='Male')\n",
    "\n",
    "\n",
    "plt.scatter(marriages_df[marriages_df['Sex'] == 'Female']['Year'], marriages_df[marriages_df['Sex'] == 'Female']['totalMarriages'], c='g', label='Female')\n",
    "\n",
    "plt.xlabel('Year', fontsize=20)\n",
    "plt.ylabel('Total Marriages', fontsize=20)\n",
    "plt.xticks(fontsize=20)\n",
    "plt.yticks(fontsize=20)\n",
    "plt.title('Total Marriages by Year', fontsize=20)\n",
    "plt.legend(prop={'size': 18})\n",
    "plt.show()"
   ]
  },
  {
   "cell_type": "code",
   "execution_count": null,
   "id": "9b74c90d",
   "metadata": {},
   "outputs": [],
   "source": [
    "import warnings\n",
    "warnings.filterwarnings('ignore') \n",
    "sns.heatmap(marriages_df.corr(), annot = True, fmt = '.2f', linewidths = 2)\n"
   ]
  },
  {
   "cell_type": "code",
   "execution_count": null,
   "id": "c0faa723",
   "metadata": {},
   "outputs": [],
   "source": [
    "from sklearn.neighbors import KNeighborsClassifier\n",
    "from sklearn.preprocessing import LabelEncoder\n",
    "from sklearn.model_selection import train_test_split"
   ]
  },
  {
   "cell_type": "code",
   "execution_count": null,
   "id": "ff5ae8b3",
   "metadata": {},
   "outputs": [],
   "source": [
    "l_encoder = LabelEncoder()\n",
    "\n",
    "marriages_df['Form of Ceremony'] = l_encoder.fit_transform(marriages_df['Form of Ceremony'])"
   ]
  },
  {
   "cell_type": "code",
   "execution_count": null,
   "id": "fec3d563",
   "metadata": {},
   "outputs": [],
   "source": [
    "from sklearn.model_selection import train_test_split\n",
    "\n",
    "train_data, test_data, train_label, test_label = train_test_split(marriages_df[['totalMarriages', 'totalTypeOfCeremony', 'Total']],marriages_df['Form of Ceremony'],test_size=0.2,random_state=42)"
   ]
  },
  {
   "cell_type": "code",
   "execution_count": null,
   "id": "c8a0725c",
   "metadata": {},
   "outputs": [],
   "source": [
    "train_data.shape,train_label.shape,test_data.shape,test_label.shape"
   ]
  },
  {
   "cell_type": "code",
   "execution_count": null,
   "id": "ebffe28d",
   "metadata": {},
   "outputs": [],
   "source": [
    "neighbors = np.arange(1, 9)                  \n",
    "train_accuracy = np.zeros(len(neighbors))    \n",
    "test_accuracy = np.zeros(len(neighbors))     \n",
    "\n",
    "for i,k in enumerate(neighbors):                          \n",
    "    knn = KNeighborsClassifier(n_neighbors = k)           \n",
    "\n",
    "    \n",
    "    knn.fit(train_data, train_label)                      \n",
    "    train_accuracy[i] = knn.score(train_data, train_label)      \n",
    "    test_accuracy[i] = knn.score(test_data, test_label)      \n",
    "    \n",
    "plt.figure(figsize = (10, 6))\n",
    "plt.title('KNN accuracy with varying number of neighbors', fontsize = 20)\n",
    "plt.plot(neighbors, test_accuracy, label = 'Testing Accuracy')\n",
    "plt.plot(neighbors, train_accuracy, label = 'Training accuracy')\n",
    "plt.legend(prop = {'size': 20})\n",
    "plt.xlabel('Number of neighbors', fontsize = 20)\n",
    "plt.ylabel('Accuracy', fontsize = 20)\n",
    "plt.xticks(fontsize = 20)\n",
    "plt.yticks(fontsize = 20)\n",
    "plt.show()"
   ]
  },
  {
   "cell_type": "code",
   "execution_count": null,
   "id": "356777a1",
   "metadata": {},
   "outputs": [],
   "source": [
    "\n",
    "knn = KNeighborsClassifier(n_neighbors = 3)\n",
    "\n",
    "\n",
    "knn.fit(train_data, train_label)\n",
    "\n",
    "\n",
    "train_accuracy = knn.score(train_data, train_label)\n",
    "\n",
    "test_accuracy = knn.score(test_data, test_label)"
   ]
  },
  {
   "cell_type": "code",
   "execution_count": null,
   "id": "a6928afd",
   "metadata": {},
   "outputs": [],
   "source": [
    "print(test_accuracy)\n"
   ]
  },
  {
   "cell_type": "code",
   "execution_count": null,
   "id": "7e7f3094",
   "metadata": {},
   "outputs": [],
   "source": [
    "from sklearn.metrics import confusion_matrix\n",
    "\n",
    "\n",
    "prediction = knn.predict(test_data)\n",
    "\n",
    "\n",
    "confusion_matrix(test_label, prediction)"
   ]
  },
  {
   "cell_type": "code",
   "execution_count": null,
   "id": "f127194f",
   "metadata": {},
   "outputs": [],
   "source": [
    "from sklearn.metrics import classification_report\n",
    "\n",
    "\n",
    "print(classification_report(test_label, prediction))"
   ]
  },
  {
   "cell_type": "code",
   "execution_count": null,
   "id": "0312643e",
   "metadata": {},
   "outputs": [],
   "source": [
    "\n",
    "\n",
    "X = marriages_df[['totalMarriages', 'totalTypeOfCeremony', 'Total']].values\n",
    "y = marriages_df['Form of Ceremony'].values\n",
    "\n",
    "from sklearn.model_selection import train_test_split\n",
    "\n",
    "\n",
    "X_train, X_test, y_train, y_test = train_test_split(X, y, test_size=0.2, random_state=42)"
   ]
  },
  {
   "cell_type": "code",
   "execution_count": null,
   "id": "9cab8ea1",
   "metadata": {},
   "outputs": [],
   "source": []
  },
  {
   "cell_type": "code",
   "execution_count": null,
   "id": "17523db4",
   "metadata": {},
   "outputs": [],
   "source": [
    "from sklearn.tree import DecisionTreeClassifier\n",
    "classifier = DecisionTreeClassifier(max_depth = 3, random_state = 0)\n",
    "classifier.fit(X_train, y_train)"
   ]
  },
  {
   "cell_type": "code",
   "execution_count": null,
   "id": "878b6365",
   "metadata": {},
   "outputs": [],
   "source": [
    "y_pred = classifier.predict(X_test)"
   ]
  },
  {
   "cell_type": "code",
   "execution_count": null,
   "id": "3964f67d",
   "metadata": {},
   "outputs": [],
   "source": [
    "from sklearn.metrics import classification_report, confusion_matrix\n",
    "import seaborn as sns\n",
    "\n",
    "\n",
    "cm = confusion_matrix(y_test, y_pred)\n",
    "\n",
    "\n",
    "sns.heatmap(cm, annot = True)\n",
    "\n",
    "\n",
    "print(classification_report(y_test, y_pred))"
   ]
  },
  {
   "cell_type": "code",
   "execution_count": null,
   "id": "bec5bb29",
   "metadata": {},
   "outputs": [],
   "source": [
    "from sklearn import metrics                           \n",
    "import warnings\n",
    "warnings.filterwarnings('ignore') \n",
    "\n",
    "print(\"Accuracy:\",metrics.accuracy_score(y_test, y_pred))"
   ]
  },
  {
   "cell_type": "code",
   "execution_count": null,
   "id": "6f3c843e",
   "metadata": {},
   "outputs": [],
   "source": [
    "import matplotlib.pyplot as plt\n",
    "\n",
    "plt.figure(figsize=(12,8))\n",
    "\n",
    "from sklearn import tree\n",
    "\n",
    "tree.plot_tree(classifier.fit(X_train, y_train)) "
   ]
  },
  {
   "cell_type": "code",
   "execution_count": null,
   "id": "8bee9420",
   "metadata": {},
   "outputs": [],
   "source": [
    "marriages_df.head(2)"
   ]
  },
  {
   "cell_type": "code",
   "execution_count": null,
   "id": "1a855810",
   "metadata": {},
   "outputs": [],
   "source": [
    "%matplotlib inline\n",
    "import matplotlib.pyplot as plt\n",
    "import seaborn as sns\n",
    "\n",
    "\n",
    "sns.set(style='whitegrid', context='notebook')\n",
    "\n",
    "\n",
    "cols = [ 'Year','totalTypeOfCeremony', 'totalMarriages']\n",
    "\n",
    "\n",
    "sns.pairplot(marriages_df[cols], height = 2.5)\n",
    "\n",
    "plt.tight_layout()\n",
    "\n",
    "plt.show()"
   ]
  },
  {
   "cell_type": "code",
   "execution_count": null,
   "id": "fdc13421",
   "metadata": {},
   "outputs": [],
   "source": [
    "\n",
    "\n",
    "cm = np.corrcoef(marriages_df[cols].values.T)\n",
    "\n",
    "\n",
    "sns.set(font_scale = 1.1)\n",
    "\n",
    "hm = sns.heatmap(cm, \n",
    "            cbar=True,\n",
    "            annot=True, \n",
    "            square=True,\n",
    "            fmt='.2f',\n",
    "            annot_kws={'size': 13},\n",
    "            yticklabels=cols,\n",
    "            xticklabels=cols)\n",
    "\n",
    "plt.tight_layout()\n",
    "\n",
    "plt.show()"
   ]
  },
  {
   "cell_type": "code",
   "execution_count": null,
   "id": "359199cb",
   "metadata": {},
   "outputs": [],
   "source": [
    "class LinearRegressionGD(object):\n",
    "    \n",
    "    def __init__(self, eta = 0.001, n_iter = 20):\n",
    "        self.eta = eta\n",
    "        self.n_iter = n_iter\n",
    "\n",
    "    def fit(self, X, y):\n",
    "        self.w_ = np.zeros(1 + X.shape[1])\n",
    "        self.cost_ = []\n",
    "\n",
    "        for i in range(self.n_iter):\n",
    "            output = self.net_input(X)\n",
    "            errors = (y - output)\n",
    "            self.w_[1:] += self.eta * X.T.dot(errors)\n",
    "            self.w_[0] += self.eta * errors.sum()\n",
    "            cost = (errors**2).sum() / 2.0\n",
    "            self.cost_.append(cost)\n",
    "        return self\n",
    "\n",
    "    def net_input(self, X):\n",
    "        return np.dot(X, self.w_[1:]) + self.w_[0]\n",
    "\n",
    "    def predict(self, X):\n",
    "        return self.net_input(X)"
   ]
  },
  {
   "cell_type": "code",
   "execution_count": null,
   "id": "4348361f",
   "metadata": {},
   "outputs": [],
   "source": [
    "X = marriages_df[['Year']].values\n",
    "y = marriages_df[['totalMarriages']].values"
   ]
  },
  {
   "cell_type": "code",
   "execution_count": null,
   "id": "c37647c3",
   "metadata": {},
   "outputs": [],
   "source": [
    "X.shape, y.shape"
   ]
  },
  {
   "cell_type": "code",
   "execution_count": null,
   "id": "108b8a8b",
   "metadata": {},
   "outputs": [],
   "source": [
    "\n",
    "from sklearn.preprocessing import StandardScaler\n",
    "\n",
    "\n",
    "sc_x = StandardScaler()\n",
    "sc_y = StandardScaler()\n",
    "\n",
    "X_std = sc_x.fit_transform(X)\n",
    "y_std = sc_y.fit_transform(y)"
   ]
  },
  {
   "cell_type": "code",
   "execution_count": null,
   "id": "21f59b36",
   "metadata": {},
   "outputs": [],
   "source": [
    "y_std = np.reshape(y_std, 56)\n",
    "\n",
    "X_std.shape, y_std.shape"
   ]
  },
  {
   "cell_type": "code",
   "execution_count": null,
   "id": "4e2df3d7",
   "metadata": {},
   "outputs": [],
   "source": [
    "lr = LinearRegressionGD()\n",
    "\n",
    "\n",
    "lr.fit(X_std, y_std)"
   ]
  },
  {
   "cell_type": "code",
   "execution_count": null,
   "id": "48023aed",
   "metadata": {},
   "outputs": [],
   "source": [
    "plt.plot(range(1, lr.n_iter + 1), lr.cost_)\n",
    "plt.ylabel('SSE')           # SSE means 'sum of squares error'\n",
    "plt.xlabel('Epoch')         # The number of epochs is a hyperparameter that defines the number times \n",
    "                            # that the learning algorithm will work through the entire training \n",
    "                            # dataset. One epoch means that each sample in the training dataset has \n",
    "                            # had an opportunity to update the internal model parameters. \n",
    "                            # An epoch is comprised of one or more batches.\n",
    "plt.tight_layout()\n",
    "\n",
    "plt.show()"
   ]
  },
  {
   "cell_type": "code",
   "execution_count": null,
   "id": "b0a16468",
   "metadata": {},
   "outputs": [],
   "source": [
    "def lin_regplot(X, y, model):\n",
    "    plt.scatter(X, y, c = 'blue')\n",
    "    plt.plot(X, model.predict(X), color = 'red', linewidth = 2)    \n",
    "    return"
   ]
  },
  {
   "cell_type": "code",
   "execution_count": null,
   "id": "092507d7",
   "metadata": {},
   "outputs": [],
   "source": [
    "lin_regplot(X_std, y_std, lr)\n",
    "plt.xlabel('Year (standardized)')\n",
    "plt.ylabel('Total of Marriages(standardized)')\n",
    "plt.tight_layout()\n",
    "\n",
    "plt.show()"
   ]
  },
  {
   "cell_type": "code",
   "execution_count": null,
   "id": "156efa57",
   "metadata": {},
   "outputs": [],
   "source": [
    "print('Slope: %.3f' % lr.w_[1])\n",
    "print('Intercept: %.3f' % lr.w_[0])"
   ]
  },
  {
   "cell_type": "code",
   "execution_count": null,
   "id": "2434695f",
   "metadata": {},
   "outputs": [],
   "source": []
  },
  {
   "cell_type": "code",
   "execution_count": null,
   "id": "db17fb31",
   "metadata": {},
   "outputs": [],
   "source": [
    "year_std = sc_x.transform([[5.0]])\n",
    "\n",
    "total_marriages_std = lr.predict(year_std)\n",
    "\n",
    "\n",
    "total_marriages_2d = total_marriages_std.reshape(-1,1)\n",
    "print(\"Predicted Marriages: %.3f\" % sc_y.inverse_transform(total_marriages_2d))"
   ]
  },
  {
   "cell_type": "code",
   "execution_count": null,
   "id": "6a9b6521",
   "metadata": {},
   "outputs": [],
   "source": [
    "\n",
    "from sklearn.tree import DecisionTreeRegressor\n",
    "\n",
    "\n",
    "X = marriages_df[['Year']].values\n",
    "y = marriages_df['totalMarriages'].values\n",
    "\n",
    "\n",
    "tree = DecisionTreeRegressor(max_depth = 3)\n",
    "tree.fit(X, y)\n",
    "\n",
    "\n",
    "sort_idx = X.flatten().argsort()\n",
    "\n",
    "lin_regplot(X[sort_idx], y[sort_idx], tree)\n",
    "plt.xlabel(' Year')\n",
    "plt.ylabel('Total of Marriages')\n",
    "\n",
    "plt.show()"
   ]
  },
  {
   "cell_type": "code",
   "execution_count": null,
   "id": "414a6cc3",
   "metadata": {},
   "outputs": [],
   "source": [
    "!pip install PCA"
   ]
  },
  {
   "cell_type": "code",
   "execution_count": null,
   "id": "72ed3182",
   "metadata": {},
   "outputs": [],
   "source": []
  },
  {
   "cell_type": "code",
   "execution_count": null,
   "id": "e477030c",
   "metadata": {},
   "outputs": [],
   "source": [
    "# PCA for Machine Learning Model\n"
   ]
  },
  {
   "cell_type": "code",
   "execution_count": null,
   "id": "4409bee5",
   "metadata": {},
   "outputs": [],
   "source": [
    "df = marriages_df[['Year', 'totalMarriages','Total', 'totalTypeOfCeremony']]  \n",
    "\n",
    "df.head()"
   ]
  },
  {
   "cell_type": "code",
   "execution_count": null,
   "id": "a2288102",
   "metadata": {},
   "outputs": [],
   "source": [
    "from sklearn.preprocessing import StandardScaler\n",
    "  \n",
    "scalar = StandardScaler()\n",
    "  \n",
    "\n",
    "scalar.fit(df)\n",
    "scaled_data = scalar.transform(df)\n",
    "  \n",
    "\n",
    "from sklearn.decomposition import PCA\n",
    "  \n",
    "\n",
    "pca = PCA(n_components = 2)\n",
    "pca.fit(scaled_data)\n",
    "x_pca = pca.transform(scaled_data)\n",
    "  \n",
    "x_pca.shape"
   ]
  },
  {
   "cell_type": "code",
   "execution_count": null,
   "id": "558e3a22",
   "metadata": {},
   "outputs": [],
   "source": [
    "plt.figure(figsize=(8, 6))\n",
    "plt.scatter(x_pca[:, 0], x_pca[:, 1], c=marriages_df['Year'], cmap='plasma')\n",
    "\n",
    "\n",
    "plt.xlabel('First Principal Component')\n",
    "plt.ylabel('Second Principal Component')"
   ]
  },
  {
   "cell_type": "code",
   "execution_count": null,
   "id": "0893f93c",
   "metadata": {},
   "outputs": [],
   "source": [
    "pca.components_, pca.explained_variance_ratio_"
   ]
  },
  {
   "cell_type": "code",
   "execution_count": null,
   "id": "17e65ab4",
   "metadata": {},
   "outputs": [],
   "source": [
    "from sklearn.datasets import make_blobs\n",
    "from sklearn.cluster import KMeans\n",
    "\n",
    "\n",
    "X, y = make_blobs(random_state = 1)\n",
    "\n",
    "\n",
    "kmeans = KMeans(n_clusters = 3)\n",
    "kmeans.fit(marriages_df[['Form of Ceremony', 'totalMarriages']])"
   ]
  },
  {
   "cell_type": "code",
   "execution_count": null,
   "id": "cae3a543",
   "metadata": {},
   "outputs": [],
   "source": [
    "import mglearn\n",
    "\n",
    "\n",
    "mglearn.discrete_scatter(marriages_df['totalMarriages'], marriages_df['Total'], kmeans.labels_, markers='o')\n",
    "\n",
    "mglearn.discrete_scatter(\n",
    "    kmeans.cluster_centers_[:, 0], kmeans.cluster_centers_[:, 1],\n",
    "    [0, 1,2], markers='^', markeredgewidth=5)\n",
    "\n",
    "plt.show()"
   ]
  },
  {
   "cell_type": "code",
   "execution_count": null,
   "id": "384f60de",
   "metadata": {},
   "outputs": [],
   "source": [
    "kmeans = KMeans(n_clusters = 2)\n",
    "kmeans.fit(marriages_df[['Form of Ceremony', 'totalMarriages']])\n",
    "mglearn.discrete_scatter(marriages_df['totalMarriages'], marriages_df['Total'], kmeans.labels_, markers='o')\n",
    "\n",
    "mglearn.discrete_scatter(\n",
    "    kmeans.cluster_centers_[:, 0], kmeans.cluster_centers_[:, 1],\n",
    "    [0, 1], markers='^', markeredgewidth=5)\n",
    "\n",
    "plt.show()"
   ]
  },
  {
   "cell_type": "code",
   "execution_count": null,
   "id": "59a70d44",
   "metadata": {},
   "outputs": [],
   "source": [
    "kmeans = KMeans(n_clusters = 5)\n",
    "kmeans.fit(marriages_df[['Form of Ceremony', 'Total']])\n",
    "mglearn.discrete_scatter(marriages_df['totalMarriages'], marriages_df['Total'], kmeans.labels_, markers='o')\n",
    "\n",
    "mglearn.discrete_scatter(\n",
    "    kmeans.cluster_centers_[:, 0], kmeans.cluster_centers_[:, 1],\n",
    "    [0, 1,2,3,4], markers='^', markeredgewidth=5)\n",
    "\n",
    "plt.show()"
   ]
  },
  {
   "cell_type": "code",
   "execution_count": null,
   "id": "98d5435f",
   "metadata": {},
   "outputs": [],
   "source": [
    "wcss = []  \n",
    "\n",
    "for i in range(1, 11):\n",
    "    kmeans = KMeans(n_clusters=i, max_iter=300, n_init=10, random_state=0)\n",
    "    kmeans.fit(marriages_df[['totalTypeOfCeremony', 'Form of Ceremony']])\n",
    "    wcss.append(kmeans.inertia_)\n",
    "\n",
    "\n",
    "plt.plot(range(1, 11), wcss)\n",
    "plt.title('The Elbow Method')\n",
    "plt.xlabel('Number of Clusters')\n",
    "plt.ylabel('WCSS') \n",
    "plt.show()"
   ]
  },
  {
   "cell_type": "code",
   "execution_count": null,
   "id": "d61ba17a",
   "metadata": {},
   "outputs": [],
   "source": [
    "x = marriages_df[['Total', 'totalTypeOfCeremony']].values\n"
   ]
  },
  {
   "cell_type": "code",
   "execution_count": null,
   "id": "8cf2a89d",
   "metadata": {},
   "outputs": [],
   "source": [
    "marriages_df.head()"
   ]
  },
  {
   "cell_type": "code",
   "execution_count": null,
   "id": "59331be4",
   "metadata": {},
   "outputs": [],
   "source": [
    "kmeans = KMeans(n_clusters = 4, max_iter = 300, n_init = 10, random_state = 0)\n",
    "\n",
    "\n",
    "y_kmeans = kmeans.fit_predict(x)\n",
    "\n",
    "print(y_kmeans)"
   ]
  },
  {
   "cell_type": "code",
   "execution_count": null,
   "id": "7d1b14e3",
   "metadata": {},
   "outputs": [],
   "source": [
    "plt.scatter(x[y_kmeans == 0, 0], x[y_kmeans == 0, 1], s = 50, c = 'red', label = 'Male')\n",
    "plt.scatter(x[y_kmeans == 1, 0], x[y_kmeans == 1, 1], s = 50, c = 'blue', label = 'Female')\n",
    "plt.scatter(x[y_kmeans == 2, 0], x[y_kmeans == 2, 1], s = 50, c = 'green', label = 'Male2')\n",
    "plt.scatter(x[y_kmeans == 3, 0], x[y_kmeans == 3, 1], s = 50, c = 'brown', label = 'Female2')\n",
    "\n",
    "plt.scatter(kmeans.cluster_centers_[:, 0], kmeans.cluster_centers_[:, 1:2], s = 100, c = 'yellow', label = 'Centroids')\n",
    "plt.xlabel('Total of Marriages')\n",
    "plt.ylabel('Total')\n",
    "\n",
    "\n",
    "plt.legend() "
   ]
  },
  {
   "cell_type": "code",
   "execution_count": null,
   "id": "112e1784",
   "metadata": {},
   "outputs": [],
   "source": []
  },
  {
   "cell_type": "code",
   "execution_count": null,
   "id": "8ea536ae",
   "metadata": {},
   "outputs": [],
   "source": [
    "marriages_df = pd.read_csv('marriages_modified.csv')"
   ]
  },
  {
   "cell_type": "code",
   "execution_count": null,
   "id": "78c64cd5",
   "metadata": {},
   "outputs": [],
   "source": [
    "train_data.shape,train_label.shape,test_data.shape,test_label.shape"
   ]
  },
  {
   "cell_type": "code",
   "execution_count": null,
   "id": "b5a49c5c",
   "metadata": {},
   "outputs": [],
   "source": [
    "X = marriages_df[['totalMarriages', 'totalTypeOfCeremony', 'Total']].values\n",
    "y = marriages_df['Form of Ceremony'].values\n",
    "\n",
    "from sklearn.model_selection import train_test_split\n",
    "\n",
    "\n",
    "X_train, X_test, y_train, y_test = train_test_split(X, y, test_size=0.2, random_state=42)\n",
    "X.shape, y.shape, X_train.shape, y_train.shape, X_test.shape, y_test.shape"
   ]
  },
  {
   "cell_type": "code",
   "execution_count": null,
   "id": "ca21717a",
   "metadata": {},
   "outputs": [],
   "source": [
    "from sklearn.preprocessing import StandardScaler\n",
    "sc = StandardScaler()\n",
    "\n",
    "\n",
    "X_train = sc.fit_transform(X_train)\n",
    "\n",
    "\n",
    "X_test = sc.transform(X_test)"
   ]
  },
  {
   "cell_type": "code",
   "execution_count": null,
   "id": "bba7b1da",
   "metadata": {},
   "outputs": [],
   "source": [
    "from sklearn.naive_bayes import GaussianNB\n",
    "\n",
    "nvclassifier = GaussianNB()\n",
    "\n",
    "nvclassifier.fit(X_train, y_train)"
   ]
  },
  {
   "cell_type": "code",
   "execution_count": null,
   "id": "838664d2",
   "metadata": {},
   "outputs": [],
   "source": [
    "y_pred = nvclassifier.predict(X_test)\n",
    "\n",
    "print(y_pred)"
   ]
  },
  {
   "cell_type": "code",
   "execution_count": null,
   "id": "585de859",
   "metadata": {},
   "outputs": [],
   "source": [
    "y_compare = np.vstack((y_test, y_pred)).T\n",
    "\n",
    "y_compare[:10, :]"
   ]
  },
  {
   "cell_type": "code",
   "execution_count": null,
   "id": "0f7ab8fe",
   "metadata": {},
   "outputs": [],
   "source": [
    "from sklearn.metrics import confusion_matrix\n",
    "cm = confusion_matrix(y_test, y_pred)\n",
    "print(cm)"
   ]
  },
  {
   "cell_type": "code",
   "execution_count": null,
   "id": "84eb8997",
   "metadata": {},
   "outputs": [],
   "source": [
    "from sklearn import metrics\n",
    "\n",
    "\n",
    "print(\"Accuracy:\",metrics.accuracy_score(y_test, y_pred))\n",
    "\n",
    "\n",
    "print( \"Accuracy: {:.2f}\".format(metrics.accuracy_score(y_test, y_pred)) )"
   ]
  },
  {
   "cell_type": "code",
   "execution_count": null,
   "id": "493f2cc4",
   "metadata": {},
   "outputs": [],
   "source": [
    "from sklearn.model_selection import cross_val_score\n",
    "nvclassifier = GaussianNB()\n",
    "cross_val_score(nvclassifier, X, y, scoring='accuracy', cv = 10).mean()"
   ]
  },
  {
   "cell_type": "markdown",
   "id": "1c1284f6",
   "metadata": {},
   "source": [
    "Model Generation"
   ]
  },
  {
   "cell_type": "code",
   "execution_count": null,
   "id": "9acb2e5a",
   "metadata": {},
   "outputs": [],
   "source": [
    "from sklearn.naive_bayes import GaussianNB\n",
    "\n",
    "#Create a Gaussian Classifier\n",
    "gnb = GaussianNB()\n",
    "\n",
    "#Train the model using the training sets\n",
    "gnb.fit(X_train, y_train)\n",
    "\n",
    "#Predict the response for test dataset\n",
    "y_pred = gnb.predict(X_test)"
   ]
  },
  {
   "cell_type": "markdown",
   "id": "a70fffe3",
   "metadata": {},
   "source": [
    "evaluating model"
   ]
  },
  {
   "cell_type": "code",
   "execution_count": null,
   "id": "8d667dec",
   "metadata": {},
   "outputs": [],
   "source": [
    "from sklearn import metrics\n",
    "\n",
    "\n",
    "print(\"Accuracy:\",metrics.accuracy_score(y_test, y_pred))"
   ]
  },
  {
   "cell_type": "code",
   "execution_count": null,
   "id": "65721db4",
   "metadata": {},
   "outputs": [],
   "source": [
    "a = marriages_df[marriages_df['Form of Ceremony'] == 'Other Religious Denominations'] \n",
    "b = marriages_df[marriages_df['Form of Ceremony'] == 'Civil Marriages'] \n",
    "c = marriages_df[marriages_df['Form of Ceremony'] == 'The Humanist Association'] \n",
    "d = marriages_df[marriages_df['Form of Ceremony'] == 'The Spiritualist Union of Ireland'] \n",
    "\n",
    "\n",
    "\n",
    "\n"
   ]
  },
  {
   "cell_type": "code",
   "execution_count": null,
   "id": "00c42930",
   "metadata": {
    "scrolled": true
   },
   "outputs": [],
   "source": [
    "plt.title(\"All type of Marriages\")\n",
    "plt.xlabel(\"Overall Total\")\n",
    "plt.ylabel(\"Total singularly\")\n",
    "plt.scatter(a.totalMarriages, a.Total, color = \"red\", label = \"Male, Other Religious Denominations\", alpha = 0.3)\n",
    "plt.scatter(b.totalMarriages, b.Total, color = \"lime\", label = \"Male, Civil Marriages\", alpha = 0.3)\n",
    "plt.scatter(c.totalMarriages, c.Total, color = \"g\", label = \"Male, The Humanist Association\", alpha = 0.3)\n",
    "plt.scatter(d.totalMarriages, d.Total, color = \"b\", label = \"Male, The Spiritualist Union of Ireland\", alpha = 0.3)\n",
    "\n",
    "\n",
    "plt.legend(loc='upper right',bbox_to_anchor=(1.75,1.02))\n",
    "plt.show()"
   ]
  },
  {
   "cell_type": "code",
   "execution_count": null,
   "id": "646d26c8",
   "metadata": {},
   "outputs": [],
   "source": [
    "X = marriages_df[['totalMarriages', 'Year']]\n",
    "y = marriages_df['Sex']"
   ]
  },
  {
   "cell_type": "code",
   "execution_count": null,
   "id": "092a1b5e",
   "metadata": {},
   "outputs": [],
   "source": [
    "from sklearn.model_selection import train_test_split\n",
    "X_train, X_test, y_train, y_test = train_test_split(X, y, test_size=0.25, random_state=101)"
   ]
  },
  {
   "cell_type": "code",
   "execution_count": null,
   "id": "edd46d12",
   "metadata": {},
   "outputs": [],
   "source": [
    "from sklearn.svm import SVC\n",
    "svc_model = SVC()\n",
    "svc_model.fit(X_train, y_train)"
   ]
  },
  {
   "cell_type": "code",
   "execution_count": null,
   "id": "b96f1637",
   "metadata": {},
   "outputs": [],
   "source": [
    "from sklearn.metrics import classification_report, confusion_matrix\n",
    "\n",
    "\n",
    "y_predict = svc_model.predict(X_test)\n",
    "cm = confusion_matrix(y_test, y_predict)\n",
    "sns.heatmap(cm, annot=True)\n",
    "print(classification_report(y_test, y_predict))"
   ]
  },
  {
   "cell_type": "code",
   "execution_count": null,
   "id": "251a7292",
   "metadata": {},
   "outputs": [],
   "source": [
    "from sklearn.preprocessing import MinMaxScaler\n",
    "\n",
    "n_scaler = MinMaxScaler()\n",
    "X_train_scaled = n_scaler.fit_transform(X_train)\n",
    "X_test_scaled = n_scaler.transform(X_test)\n",
    "\n",
    "#Support Vector Classification model -  apply on scaled data\n",
    "from sklearn.svm import SVC\n",
    "svc_model = SVC()\n",
    "svc_model.fit(X_train_scaled, y_train)\n",
    "\n",
    "from sklearn.metrics import classification_report, confusion_matrix\n",
    "y_predict_scaled = svc_model.predict(X_test_scaled)\n",
    "cm = confusion_matrix(y_test, y_predict_scaled)\n",
    "sns.heatmap(cm, annot=True)\n",
    "print(classification_report(y_test, y_predict_scaled))"
   ]
  },
  {
   "cell_type": "code",
   "execution_count": null,
   "id": "6d3e72f9",
   "metadata": {},
   "outputs": [],
   "source": [
    "from sklearn.model_selection import GridSearchCV\n",
    "param_grid = {'C':[0.1,1,10,100,1000],'gamma':[1,0.1,0.01,0.001,0.001], 'kernel':['rbf']}\n",
    "grid = GridSearchCV(SVC(),param_grid,verbose = 4)\n",
    "grid.fit(X_train_scaled,y_train)\n",
    "grid.best_params_\n",
    "grid.best_estimator_\n",
    "grid_predictions = grid.predict(X_test_scaled)\n",
    "cmG = confusion_matrix(y_test,grid_predictions)\n",
    "sns.heatmap(cmG, annot=True)\n",
    "print(classification_report(y_test,grid_predictions))"
   ]
  },
  {
   "cell_type": "code",
   "execution_count": null,
   "id": "cc908635",
   "metadata": {},
   "outputs": [],
   "source": []
  },
  {
   "cell_type": "code",
   "execution_count": null,
   "id": "34c031ab",
   "metadata": {},
   "outputs": [],
   "source": [
    "from sklearn.svm import SVC\n",
    "from sklearn.metrics import accuracy_score\n",
    "from sklearn.preprocessing import StandardScaler"
   ]
  },
  {
   "cell_type": "code",
   "execution_count": null,
   "id": "004645b6",
   "metadata": {},
   "outputs": [],
   "source": [
    "pip install mlxtend"
   ]
  },
  {
   "cell_type": "code",
   "execution_count": null,
   "id": "8e5d67e5",
   "metadata": {},
   "outputs": [],
   "source": []
  },
  {
   "cell_type": "code",
   "execution_count": null,
   "id": "5729a4dd",
   "metadata": {},
   "outputs": [],
   "source": [
    "import numpy as np\n",
    "import matplotlib.pyplot as plt\n",
    "import matplotlib.gridspec as gridspec\n",
    "import itertools\n",
    "from sklearn.linear_model import LogisticRegression\n",
    "from sklearn.ensemble import RandomForestClassifier\n",
    "from mlxtend.classifier import EnsembleVoteClassifier\n",
    "from mlxtend.plotting import plot_decision_regions\n",
    "from sklearn.model_selection import train_test_split\n",
    "from sklearn.preprocessing import LabelEncoder\n",
    "from sklearn.preprocessing import StandardScaler\n",
    "\n",
    "\n",
    "label_encoder = LabelEncoder()\n",
    "marriages_df['Form of Ceremony'] = label_encoder.fit_transform(marriages_df['Form of Ceremony'])\n",
    "\n",
    "X = marriages_df[['totalMarriages', 'totalTypeOfCeremony', 'Total']]\n",
    "y = marriages_df['Form of Ceremony'].ravel()\n",
    "\n",
    "\n",
    "\n",
    "X_plot = X.iloc[:, :2]\n",
    "\n",
    "\n",
    "clf1 = LogisticRegression(random_state=0)\n",
    "clf2 = RandomForestClassifier(random_state=0)\n",
    "\n",
    "\n",
    "gs = gridspec.GridSpec(1, 2)\n",
    "fig = plt.figure(figsize=(12, 6))\n",
    "\n",
    "for clf, lab, grd in zip([clf1, clf2],\n",
    "                         ['Logistic Regression', 'Random Forest'],\n",
    "                         itertools.product([0, 1], repeat=2)):\n",
    "    clf.fit(X_plot, y)\n",
    "    ax = plt.subplot(gs[grd[0], grd[1]])\n",
    "    plot_decision_regions(X=X_plot.values, y=y, clf=clf, legend=2)\n",
    "    plt.title(lab)\n",
    "\n",
    "plt.show()\n",
    "\n",
    "\n"
   ]
  },
  {
   "cell_type": "code",
   "execution_count": null,
   "id": "7ce92fd1",
   "metadata": {},
   "outputs": [],
   "source": [
    "print(marriages_df.loc[5])"
   ]
  },
  {
   "cell_type": "code",
   "execution_count": null,
   "id": "4ba97eef",
   "metadata": {},
   "outputs": [],
   "source": [
    "from empiricaldist import Pmf , Cdf"
   ]
  },
  {
   "cell_type": "code",
   "execution_count": null,
   "id": "bd4b5391",
   "metadata": {},
   "outputs": [],
   "source": [
    "def label_graph(ticksfont , x_label , y_label , title_label , fontsize):\n",
    "    \n",
    "    plt.xticks(fontsize = ticksfont)\n",
    "    plt.yticks(fontsize = ticksfont)\n",
    "\n",
    "    plt.xlabel(x_label, fontsize = fontsize)\n",
    "    plt.ylabel(y_label , fontsize = fontsize)\n",
    "    plt.title(title_label, fontsize = fontsize)"
   ]
  },
  {
   "cell_type": "code",
   "execution_count": null,
   "id": "49e79d4d",
   "metadata": {},
   "outputs": [],
   "source": [
    "fig, ax = plt.subplots(figsize=(12, 8))\n",
    "sns.set_style('whitegrid')\n",
    "\n",
    "cdf = Cdf.from_seq(marriages_df['totalTypeOfCeremony'] )\n",
    "\n",
    "cdf.plot()\n",
    "\n",
    "\n",
    "ax.annotate('22% of marriages < The Humanist Association', xy=(170, 0.22), xytext=(350, 0.2), fontsize=18,\n",
    "            arrowprops={'arrowstyle': 'fancy', 'lw': 5, 'color': 'g'})\n",
    "\n",
    "\n",
    "plt.plot(167, 0.22, marker='X', color='r', markersize=15)\n",
    "\n",
    "\n",
    "label_graph(18, 'Total Marriages', 'CDF', 'Type of Marriages ', 20)\n",
    "\n",
    "\n",
    "plt.show()"
   ]
  },
  {
   "cell_type": "code",
   "execution_count": null,
   "id": "95e3b7e7",
   "metadata": {},
   "outputs": [],
   "source": [
    "print('The probability of 1000 Marriages from The Humanist Assocation is : ' + str(cdf(400)))\n",
    "print('The value of probability 25% is : ' + str(cdf.inverse(0.22)))"
   ]
  },
  {
   "cell_type": "code",
   "execution_count": null,
   "id": "6d85d1a7",
   "metadata": {},
   "outputs": [],
   "source": [
    "def cdf(data):\n",
    "    # Number of data points: n\n",
    "    n = len(data)\n",
    "    # x-data for the ECDF: x\n",
    "    x = np.sort(data)\n",
    "    # y-data for the ECDF: y\n",
    "    y = np.arange(1, n+1) / n\n",
    "    return x, y"
   ]
  },
  {
   "cell_type": "code",
   "execution_count": null,
   "id": "7999b9a5",
   "metadata": {},
   "outputs": [],
   "source": [
    "fig, ax = plt.subplots(figsize=(10,6))\n",
    "x_type , y_type = cdf(marriages_df['totalTypeOfCeremony'])\n",
    "plt.plot(x_type , y_type)\n",
    "label_graph(18 ,'totalTypeOfCeremony' , 'CDF' , ' ' , 20 )"
   ]
  },
  {
   "cell_type": "code",
   "execution_count": null,
   "id": "6f69a9eb",
   "metadata": {},
   "outputs": [],
   "source": [
    "fig, ax = plt.subplots(figsize=(10,6))\n",
    "sns.ecdfplot(data=marriages_df, x=\"totalTypeOfCeremony\")\n",
    "\n",
    "label_graph(18 ,'Total Type Of Ceremony' ,  'CDF'  , \" \" ,  20 )"
   ]
  },
  {
   "cell_type": "code",
   "execution_count": null,
   "id": "9fc4e662",
   "metadata": {},
   "outputs": [],
   "source": [
    "\n",
    "import scipy.stats as stats\n",
    "\n",
    "n = 10\n",
    "p = 0.31\n",
    "x = np.arange(0,8)\n",
    "\n",
    "fig, ax = plt.subplots(figsize=(12, 8))\n",
    "\n",
    "pmf = stats.binom.pmf(x, n, p)\n",
    "pps = plt.bar(x, pmf)\n",
    "\n",
    "for w in pps:\n",
    "    height = w.get_height()\n",
    "    ax.text(x=w.get_x() + w.get_width() / 2, y=height + 0.0001,\n",
    "    s='{}%'.format(round(height , 2)), ha='center', fontsize=20, color='r')\n",
    "plt.locator_params(integer=True)\n",
    "\n",
    "label_graph(15 ,'Total Type of Ceremony' , 'Probability' , 'Binomial Distribution(n = {n} , p={p})for Total Type of Ceremony' , 20 )\n",
    "\n",
    "\n",
    "plt.show()"
   ]
  },
  {
   "cell_type": "code",
   "execution_count": null,
   "id": "1e1c1c80",
   "metadata": {},
   "outputs": [],
   "source": []
  },
  {
   "cell_type": "code",
   "execution_count": null,
   "id": "6068e5d9",
   "metadata": {},
   "outputs": [],
   "source": []
  }
 ],
 "metadata": {
  "kernelspec": {
   "display_name": "Python 3 (ipykernel)",
   "language": "python",
   "name": "python3"
  },
  "language_info": {
   "codemirror_mode": {
    "name": "ipython",
    "version": 3
   },
   "file_extension": ".py",
   "mimetype": "text/x-python",
   "name": "python",
   "nbconvert_exporter": "python",
   "pygments_lexer": "ipython3",
   "version": "3.11.4"
  }
 },
 "nbformat": 4,
 "nbformat_minor": 5
}
